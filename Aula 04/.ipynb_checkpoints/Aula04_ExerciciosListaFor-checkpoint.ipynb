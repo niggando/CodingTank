{
 "cells": [
  {
   "cell_type": "code",
   "execution_count": 2,
   "id": "f9edcc26",
   "metadata": {
    "scrolled": true
   },
   "outputs": [
    {
     "name": "stdout",
     "output_type": "stream",
     "text": [
      "1\n",
      "2\n",
      "Santos\n",
      "3.2\n"
     ]
    }
   ],
   "source": [
    "#1 - Crie uma lista qualquer e faça um programa que imprima cada elemento da lista usando um for.\n",
    "\n",
    "lista = [1,2,'Santos', 3.20]\n",
    "\n",
    "for i in range(len(lista)):\n",
    "    print(lista[i])"
   ]
  },
  {
   "cell_type": "code",
   "execution_count": 4,
   "id": "58da98ce",
   "metadata": {},
   "outputs": [
    {
     "name": "stdout",
     "output_type": "stream",
     "text": [
      "1\n",
      "2\n",
      "Santos\n",
      "3.2\n"
     ]
    }
   ],
   "source": [
    "#2 - Faça um programa que imprima todos os itens de uma lista usando while e compare com o exercício 1.\n",
    "count = 0\n",
    "while count < len(lista):\n",
    "    print(lista[count])\n",
    "    count += 1\n"
   ]
  },
  {
   "cell_type": "code",
   "execution_count": 8,
   "id": "ae46e990",
   "metadata": {},
   "outputs": [
    {
     "name": "stdout",
     "output_type": "stream",
     "text": [
      "Digite um número: 5\n",
      "[0, 1, 2, 3, 4]\n"
     ]
    }
   ],
   "source": [
    "#3 - Faça um progrmaa que peça para o usuário digitar um número n e imprima uma lista com todos os números de 0 a n-1.\n",
    "\n",
    "n = int(input('Digite um número: '))\n",
    "lista = []\n",
    "for i in range(n):\n",
    "    lista.append(i)\n",
    "\n",
    "print(lista)"
   ]
  },
  {
   "cell_type": "code",
   "execution_count": 11,
   "id": "decd2999",
   "metadata": {},
   "outputs": [
    {
     "name": "stdout",
     "output_type": "stream",
     "text": [
      "Há 4 números pares!\n"
     ]
    }
   ],
   "source": [
    "#4 - Faça um programa que olhe todos os itens de uma lista e diga quantos deles são pares.\n",
    "\n",
    "lista = [4,5,8,3,6,15,18,23]\n",
    "count = 0\n",
    "for i in range(len(lista)):\n",
    "    if lista[i] % 2 == 0:\n",
    "        count += 1\n",
    "\n",
    "print(f'Há {count} números pares!')"
   ]
  },
  {
   "cell_type": "code",
   "execution_count": 32,
   "id": "216265fd",
   "metadata": {},
   "outputs": [
    {
     "name": "stdout",
     "output_type": "stream",
     "text": [
      "48\n",
      "23\n",
      "18\n"
     ]
    }
   ],
   "source": [
    "#5 - Agora usando a função max() faça um programa que imprima os três maiores números de uma lista.\n",
    "lista = [4,5,8,3,48,15,18,23]\n",
    "for i in range(3):\n",
    "    print(max(lista))\n",
    "    lista.remove(max(lista))"
   ]
  },
  {
   "cell_type": "code",
   "execution_count": 46,
   "id": "e85a8b98",
   "metadata": {},
   "outputs": [
    {
     "name": "stdout",
     "output_type": "stream",
     "text": [
      "O maior valor (sem utilizar máx()) é 59\n"
     ]
    }
   ],
   "source": [
    "#6 - Faça um programa que imprima o maior número de uma lista sem usar a função máx()\n",
    "\n",
    "lista = [4,5,8,3,59,49,18,23]\n",
    "\n",
    "for i in range(len(lista) - 1):\n",
    "    lista.remove(min(lista))\n",
    "\n",
    "print(f'O maior valor (sem utilizar máx()) é {lista[0]}')\n",
    "    "
   ]
  },
  {
   "cell_type": "code",
   "execution_count": 48,
   "id": "2d9e255b",
   "metadata": {},
   "outputs": [
    {
     "name": "stdout",
     "output_type": "stream",
     "text": [
      "A lista resultante foi: [8, 8, 8]\n"
     ]
    }
   ],
   "source": [
    "#7 - Faça um programa que, dadas duas listas de mesmo tamanho, crie uma nova lista com cada elemento igual a soma dos elementos da lista 1 com as da lista 2, na mesma posição\n",
    "\n",
    "lista1 = [2,8,12]\n",
    "lista2 = [6,0,-4]\n",
    "lista = []\n",
    "for i in range(len(lista1)):\n",
    "    lista.append(lista1[i] + lista2[i])\n",
    "\n",
    "print(f'A lista resultante foi: {lista}')"
   ]
  },
  {
   "cell_type": "code",
   "execution_count": null,
   "id": "f6cfea3d",
   "metadata": {},
   "outputs": [],
   "source": []
  }
 ],
 "metadata": {
  "kernelspec": {
   "display_name": "Python 3 (ipykernel)",
   "language": "python",
   "name": "python3"
  },
  "language_info": {
   "codemirror_mode": {
    "name": "ipython",
    "version": 3
   },
   "file_extension": ".py",
   "mimetype": "text/x-python",
   "name": "python",
   "nbconvert_exporter": "python",
   "pygments_lexer": "ipython3",
   "version": "3.10.5"
  }
 },
 "nbformat": 4,
 "nbformat_minor": 5
}
