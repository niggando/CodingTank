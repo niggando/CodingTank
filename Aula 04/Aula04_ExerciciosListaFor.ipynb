{
 "cells": [
  {
   "cell_type": "code",
   "execution_count": 2,
   "id": "f9edcc26",
   "metadata": {
    "scrolled": true
   },
   "outputs": [
    {
     "name": "stdout",
     "output_type": "stream",
     "text": [
      "1\n",
      "2\n",
      "Santos\n",
      "3.2\n"
     ]
    }
   ],
   "source": [
    "#1 - Crie uma lista qualquer e faça um programa que imprima cada elemento da lista usando um for.\n",
    "\n",
    "lista = [1,2,'Santos', 3.20]\n",
    "\n",
    "for i in range(len(lista)):\n",
    "    print(lista[i])"
   ]
  },
  {
   "cell_type": "code",
   "execution_count": 4,
   "id": "58da98ce",
   "metadata": {},
   "outputs": [
    {
     "name": "stdout",
     "output_type": "stream",
     "text": [
      "1\n",
      "2\n",
      "Santos\n",
      "3.2\n"
     ]
    }
   ],
   "source": [
    "#2 - Faça um programa que imprima todos os itens de uma lista usando while e compare com o exercício 1.\n",
    "lista = [1,2,'Santos', 3.20]\n",
    "count = 0\n",
    "while count < len(lista):\n",
    "    print(lista[count])\n",
    "    count += 1\n"
   ]
  },
  {
   "cell_type": "code",
   "execution_count": 8,
   "id": "ae46e990",
   "metadata": {},
   "outputs": [
    {
     "name": "stdout",
     "output_type": "stream",
     "text": [
      "Digite um número: 5\n",
      "[0, 1, 2, 3, 4]\n"
     ]
    }
   ],
   "source": [
    "#3 - Faça um progrmaa que peça para o usuário digitar um número n e imprima uma lista com todos os números de 0 a n-1.\n",
    "\n",
    "n = int(input('Digite um número: '))\n",
    "lista = []\n",
    "for i in range(n):\n",
    "    lista.append(i)\n",
    "\n",
    "print(lista)"
   ]
  },
  {
   "cell_type": "code",
   "execution_count": 11,
   "id": "decd2999",
   "metadata": {},
   "outputs": [
    {
     "name": "stdout",
     "output_type": "stream",
     "text": [
      "Há 4 números pares!\n"
     ]
    }
   ],
   "source": [
    "#4 - Faça um programa que olhe todos os itens de uma lista e diga quantos deles são pares.\n",
    "\n",
    "lista = [4,5,8,3,6,15,18,23]\n",
    "count = 0\n",
    "for i in range(len(lista)):\n",
    "    if lista[i] % 2 == 0:\n",
    "        count += 1\n",
    "\n",
    "print(f'Há {count} números pares!')"
   ]
  },
  {
   "cell_type": "code",
   "execution_count": 32,
   "id": "216265fd",
   "metadata": {},
   "outputs": [
    {
     "name": "stdout",
     "output_type": "stream",
     "text": [
      "48\n",
      "23\n",
      "18\n"
     ]
    }
   ],
   "source": [
    "#5 - Agora usando a função max() faça um programa que imprima os três maiores números de uma lista.\n",
    "lista = [4,5,8,3,48,15,18,23]\n",
    "for i in range(3):\n",
    "    print(max(lista))\n",
    "    lista.remove(max(lista))"
   ]
  },
  {
   "cell_type": "code",
   "execution_count": 46,
   "id": "e85a8b98",
   "metadata": {},
   "outputs": [
    {
     "name": "stdout",
     "output_type": "stream",
     "text": [
      "O maior valor (sem utilizar máx()) é 59\n"
     ]
    }
   ],
   "source": [
    "#6 - Faça um programa que imprima o maior número de uma lista sem usar a função máx()\n",
    "\n",
    "lista = [4,5,8,3,59,49,18,23]\n",
    "\n",
    "for i in range(len(lista) - 1):\n",
    "    lista.remove(min(lista))\n",
    "\n",
    "print(f'O maior valor (sem utilizar máx()) é {lista[0]}')\n",
    "    "
   ]
  },
  {
   "cell_type": "code",
   "execution_count": 48,
   "id": "2d9e255b",
   "metadata": {},
   "outputs": [
    {
     "name": "stdout",
     "output_type": "stream",
     "text": [
      "A lista resultante foi: [8, 8, 8]\n"
     ]
    }
   ],
   "source": [
    "#7 - Faça um programa que, dadas duas listas de mesmo tamanho, crie uma nova lista com cada elemento igual a soma dos elementos da lista 1 com as da lista 2, na mesma posição\n",
    "\n",
    "lista1 = [2,8,12]\n",
    "lista2 = [6,0,-4]\n",
    "lista = []\n",
    "for i in range(len(lista1)):\n",
    "    lista.append(lista1[i] + lista2[i])\n",
    "\n",
    "print(f'A lista resultante foi: {lista}')"
   ]
  },
  {
   "cell_type": "code",
   "execution_count": 1,
   "id": "f6cfea3d",
   "metadata": {},
   "outputs": [
    {
     "name": "stdout",
     "output_type": "stream",
     "text": [
      "Digite um número: 1\n",
      "Digite um número: 2\n",
      "Digite um número: 3\n",
      "Digite um número: 4\n",
      "Digite um número: 5\n",
      "['1', '2', '3', '4', '5']\n"
     ]
    }
   ],
   "source": [
    "#8 - Faça um programa que pede para o usuário digitar 5 números e, ao final, imprime uma lista com os 5 números digitados pelo usuário (sem converter para int ou float)\n",
    "lista = []\n",
    "\n",
    "for i in range(5):\n",
    "    lista.append(input('Digite um número: '))\n",
    "\n",
    "print(lista)"
   ]
  },
  {
   "cell_type": "code",
   "execution_count": 2,
   "id": "a399307b",
   "metadata": {},
   "outputs": [
    {
     "name": "stdout",
     "output_type": "stream",
     "text": [
      "[1.0, 2.0, 3.0, 4.0, 5.0]\n"
     ]
    }
   ],
   "source": [
    "#9 - Pegue a lista gerada no exercicio anterior e transforme cada um dos itens pra float.\n",
    "\n",
    "# Lista do exercício anterior -> lista = ['1','2','3','4','6']\n",
    "\n",
    "for i in range(len(lista)):\n",
    "    lista[i] = float(lista[i])\n",
    "    \n",
    "print(lista)"
   ]
  },
  {
   "cell_type": "code",
   "execution_count": 5,
   "id": "c4d6b11e",
   "metadata": {},
   "outputs": [
    {
     "name": "stdout",
     "output_type": "stream",
     "text": [
      "Digite a Nota Bimestral 1: 6\n",
      "Digite a Nota Bimestral 2: 8.5\n",
      "Digite a Nota Bimestral 3: 9.3\n",
      "Digite a Nota Bimestral 4: 5\n",
      "A média das notas do usuário é 7.2\n"
     ]
    }
   ],
   "source": [
    "#10 - Faça um programa que peça as 4 notas bimestrais e mostre a média aritimética delas, usando listas\n",
    "notas = []\n",
    "media = 0\n",
    "for i in range(4):\n",
    "    notas.append(float(input(f'Digite a Nota Bimestral {i+1}: ')))\n",
    "    media += notas[i]\n",
    "\n",
    "print(f'A média das notas do usuário é {media/len(notas)}')"
   ]
  },
  {
   "cell_type": "code",
   "execution_count": 34,
   "id": "ded12454",
   "metadata": {},
   "outputs": [
    {
     "name": "stdout",
     "output_type": "stream",
     "text": [
      "A lista com os primeiros 4 números é: [4, 5, 8, 3]\n",
      "A lista com os últimos 5 números é: [15, 18, 23, 7, 38]\n",
      "A lista com elementos pares é: [4, 8, 6, 18, 38]\n",
      "A lista com elementos ímpares é: [5, 3, 15, 23, 7]\n",
      "A lista sorteada é: [38, 23, 18, 15, 8, 7, 6, 5, 4, 3]\n",
      "A Lista inversa dos primeiros 5 números é: [6, 3, 8, 5, 4]\n",
      "A Lista inversa dos últimos 5 números é: [38, 7, 23, 18, 15]\n"
     ]
    }
   ],
   "source": [
    "#11 - Crie uma lista de 10 números e imprima:\n",
    "# a. Uma lista com 4 primeiros números;\n",
    "# b. Uma lista com os 5 últimos números;\n",
    "# c. Uma lista contendo apenas elementos das posições pares\n",
    "# d. Uma lista contendo apenas os elementos nas posições ímpares\n",
    "# e. Uma lista inversa da lista sorteada (sort)\n",
    "# f. Uma lista inversa dos primeiros 5 números\n",
    "# g. Uma lista inversa dos últimos 5 números\n",
    "\n",
    "\n",
    "lista = [4,5,8,3,6,15,18,23,7,38]\n",
    "\n",
    "# a.\n",
    "listaA = []\n",
    "\n",
    "for i in range(4):\n",
    "    listaA.append(lista[i])\n",
    "\n",
    "print(f'A lista com os primeiros 4 números é: {listaA}')\n",
    "\n",
    "# b.\n",
    "listaB = []\n",
    "\n",
    "for i in range(5, 10):\n",
    "    listaB.append(lista[i])\n",
    "\n",
    "print(f'A lista com os últimos 5 números é: {listaB}')\n",
    "\n",
    "# c. e d.\n",
    "listaC = []\n",
    "listaD = []\n",
    "\n",
    "for i in range(len(lista)):\n",
    "    if lista[i] % 2 == 0:\n",
    "        listaC.append(lista[i])\n",
    "    else:\n",
    "        listaD.append(lista[i])\n",
    "\n",
    "print(f'A lista com elementos pares é: {listaC}')\n",
    "print(f'A lista com elementos ímpares é: {listaD}')\n",
    "\n",
    "# e.\n",
    "listaE = []\n",
    "\n",
    "for i in range(len(lista)):\n",
    "    listaE.append(lista[i])\n",
    "    \n",
    "listaE.sort(reverse=True)\n",
    "\n",
    "print(f'A lista sorteada é: {listaE}')\n",
    "\n",
    "# f.\n",
    "listaF = []\n",
    "\n",
    "for i in range(5):\n",
    "    listaF.append(lista[i])\n",
    "    \n",
    "listaF.reverse()\n",
    "    \n",
    "print(f'A Lista inversa dos primeiros 5 números é: {listaF}')\n",
    "\n",
    "# g.\n",
    "listaG = []\n",
    "for i in range(5,10):\n",
    "    listaG.append(lista[i])\n",
    "    \n",
    "listaG.reverse()\n",
    "    \n",
    "print(f'A Lista inversa dos últimos 5 números é: {listaG}')"
   ]
  },
  {
   "cell_type": "code",
   "execution_count": 35,
   "id": "e22e20c2",
   "metadata": {},
   "outputs": [
    {
     "name": "stdout",
     "output_type": "stream",
     "text": [
      "Foram contados 5 números maiores que 50.\n",
      "A lista final foi: [61, 19, 81, 86, 9, 78, 27, 4, 43, 93]\n"
     ]
    }
   ],
   "source": [
    "#12 - Faça um programa que sorteia 10 números entre 0 e 100 e conte quantos números sorteados são maiores que 50.\n",
    "\n",
    "import random\n",
    "\n",
    "lista = []\n",
    "count = 0\n",
    "for i in range(10):\n",
    "    lista.append(random.randint(0,100))\n",
    "    if lista[i] > 50:\n",
    "        count += 1\n",
    "\n",
    "print(f'Foram contados {count} números maiores que 50.')\n",
    "print(f'A lista final foi: {lista}')"
   ]
  },
  {
   "cell_type": "code",
   "execution_count": 36,
   "id": "3c1a2d7d",
   "metadata": {},
   "outputs": [
    {
     "name": "stdout",
     "output_type": "stream",
     "text": [
      "O maior número sorteado foi: 86\n",
      "O menor número sorteado foi: 3\n",
      "A media dos números sorteados foi: 39.6\n",
      "A soma dos números sorteados foi: 396\n",
      "Lista final foi: [67, 12, 27, 24, 54, 31, 3, 69, 86, 23]\n"
     ]
    }
   ],
   "source": [
    "#13 - Faça um programa que sorteie 10 números entre 0 e 100 e imprima:\n",
    "\n",
    "# a. O maior número sorteado\n",
    "# b. o menor número sorteado\n",
    "# c. a média dos números sorteados\n",
    "# d. A soma dos números sorteados\n",
    "\n",
    "import random\n",
    "\n",
    "lista = []\n",
    "media = 0\n",
    "for i in range(10):\n",
    "    lista.append(random.randint(0,100))\n",
    "    media += lista[i]\n",
    "    \n",
    "print(f'O maior número sorteado foi: {max(lista)}')\n",
    "print(f'O menor número sorteado foi: {min(lista)}')\n",
    "print(f'A media dos números sorteados foi: {media/len(lista)}')\n",
    "print(f'A soma dos números sorteados foi: {media}')\n",
    "\n",
    "print(f'Lista final foi: {lista}')"
   ]
  },
  {
   "cell_type": "code",
   "execution_count": 10,
   "id": "a02f9958",
   "metadata": {},
   "outputs": [
    {
     "name": "stdout",
     "output_type": "stream",
     "text": [
      "Digite seu CPF: 06394920533\n"
     ]
    }
   ],
   "source": [
    "#14 - Super Desafio! Faça um programa para o usuário digitar o CPF e verifica se ele é valido.\n",
    "# Para isso, primeiramente deve multiplicar cada um dos 9 primeiros números do CPF pelos números de 10 a 2 e somar suas respostas.\n",
    "# O resultado deve ser multiuplicado por 10 e dividido por 11. \n",
    "# O resto dessa divisão deve ser igual ao primeiro dígito do verificador (10º digito).\n",
    "# Em seguida, o programa deve multiplicar cada um dos 10 primeiros dígitos do CPF pelos números de 11 a 2 e repetir o procedimento anterior\n",
    "\n",
    "CPF = list(input('Digite seu CPF: '))\n",
    "   \n",
    "x = 0\n",
    "count = 10\n",
    "\n",
    "for i in range(2,10):\n",
    "    x += int(CPF[i])*(count)\n",
    "    count -= 1\n",
    "    \n",
    "for i in range(len(CPF)):\n",
    "    y += \n",
    "\n",
    "if x*10%11 == CPF[10]:\n",
    "    print('CPF Válido')"
   ]
  },
  {
   "cell_type": "code",
   "execution_count": null,
   "id": "d4cb7825",
   "metadata": {},
   "outputs": [],
   "source": []
  }
 ],
 "metadata": {
  "kernelspec": {
   "display_name": "Python 3 (ipykernel)",
   "language": "python",
   "name": "python3"
  },
  "language_info": {
   "codemirror_mode": {
    "name": "ipython",
    "version": 3
   },
   "file_extension": ".py",
   "mimetype": "text/x-python",
   "name": "python",
   "nbconvert_exporter": "python",
   "pygments_lexer": "ipython3",
   "version": "3.10.5"
  }
 },
 "nbformat": 4,
 "nbformat_minor": 5
}
