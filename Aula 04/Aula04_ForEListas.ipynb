{
 "cells": [
  {
   "cell_type": "code",
   "execution_count": null,
   "id": "5c30d8bf",
   "metadata": {},
   "outputs": [],
   "source": [
    "# Recordando...\n",
    "# WHILE\n",
    "# Não, necessariamente, sabemos o número de iterações (repetições)"
   ]
  },
  {
   "cell_type": "code",
   "execution_count": 4,
   "id": "9c97a951",
   "metadata": {},
   "outputs": [
    {
     "name": "stdout",
     "output_type": "stream",
     "text": [
      "0\n",
      "1\n",
      "2\n",
      "3\n",
      "4\n"
     ]
    }
   ],
   "source": [
    "#FOR\n",
    "# Sabemos o número de iterações (repetições)\n",
    "for i in range(5):\n",
    "    print(i)"
   ]
  },
  {
   "cell_type": "code",
   "execution_count": 10,
   "id": "add9ffda",
   "metadata": {},
   "outputs": [
    {
     "name": "stdout",
     "output_type": "stream",
     "text": [
      "Digite a tabuada: 5\n",
      "5 x 0 = 0\n",
      "5 x 1 = 5\n",
      "5 x 2 = 10\n",
      "5 x 3 = 15\n",
      "5 x 4 = 20\n",
      "5 x 5 = 25\n",
      "5 x 6 = 30\n",
      "5 x 7 = 35\n",
      "5 x 8 = 40\n",
      "5 x 9 = 45\n",
      "5 x 10 = 50\n"
     ]
    }
   ],
   "source": [
    "n = int(input('Digite a tabuada: '))\n",
    "for i in range (0,11, 2):\n",
    "    print(f'{n} x {i} = {n * i}')"
   ]
  },
  {
   "cell_type": "code",
   "execution_count": 1,
   "id": "740dd488",
   "metadata": {},
   "outputs": [
    {
     "name": "stdout",
     "output_type": "stream",
     "text": [
      "10\n",
      "9\n",
      "8\n",
      "7\n",
      "6\n",
      "5\n",
      "4\n",
      "3\n",
      "2\n",
      "1\n"
     ]
    }
   ],
   "source": [
    "for i in range(10, 0, -1):\n",
    "    print(i)"
   ]
  },
  {
   "cell_type": "code",
   "execution_count": 13,
   "id": "18e2d5d1",
   "metadata": {},
   "outputs": [
    {
     "name": "stdout",
     "output_type": "stream",
     "text": [
      "<class 'list'>\n"
     ]
    }
   ],
   "source": [
    "# LISTAS\n",
    "\n",
    "# Estrutura de dados em python que armazena mais de um valor\n",
    "\n",
    "lista = [] # Criando uma lista vazia\n",
    "\n",
    "print(type(lista))"
   ]
  },
  {
   "cell_type": "code",
   "execution_count": 14,
   "id": "bf06ef89",
   "metadata": {},
   "outputs": [
    {
     "name": "stdout",
     "output_type": "stream",
     "text": [
      "<class 'list'>\n",
      "[0, 0, 0, 0, 0]\n"
     ]
    }
   ],
   "source": [
    "lista1 = [3,2,5,1] # Criando uma lista com alguns elementos\n",
    "\n",
    "print(type(lista1))\n",
    "\n",
    "lista2 = [0]*5 # Criando a lista com elementos repetidos\n",
    "\n",
    "print(lista2)"
   ]
  },
  {
   "cell_type": "code",
   "execution_count": 15,
   "id": "43e8cf1f",
   "metadata": {},
   "outputs": [
    {
     "name": "stdout",
     "output_type": "stream",
     "text": [
      "[True, 5, 3.1, 'Oxente', [1, 1, 1]]\n"
     ]
    }
   ],
   "source": [
    "lista = [True, 5, 3.1, 'Oxente', [1]*3]\n",
    "print(lista)"
   ]
  },
  {
   "cell_type": "code",
   "execution_count": 30,
   "id": "bd922cc1",
   "metadata": {},
   "outputs": [
    {
     "name": "stdout",
     "output_type": "stream",
     "text": [
      "['Santos', 'Corinthians', 'São Paulo', 'Palmeiras']\n"
     ]
    }
   ],
   "source": [
    "times = ['Santos','Corinthians','São Paulo','Palmeiras']\n",
    "\n",
    "print(times)"
   ]
  },
  {
   "cell_type": "code",
   "execution_count": 17,
   "id": "bbb5e15f",
   "metadata": {},
   "outputs": [
    {
     "name": "stdout",
     "output_type": "stream",
     "text": [
      "Santos\n"
     ]
    }
   ],
   "source": [
    "print(times[0])"
   ]
  },
  {
   "cell_type": "code",
   "execution_count": 20,
   "id": "b281e77d",
   "metadata": {},
   "outputs": [
    {
     "name": "stdout",
     "output_type": "stream",
     "text": [
      "Santos\n",
      "Corinthians\n",
      "São Paulo\n",
      "Palmeiras\n"
     ]
    }
   ],
   "source": [
    "for i in range(4):\n",
    "    print(times[i])"
   ]
  },
  {
   "cell_type": "code",
   "execution_count": 21,
   "id": "a95fda8d",
   "metadata": {},
   "outputs": [
    {
     "data": {
      "text/plain": [
       "4"
      ]
     },
     "execution_count": 21,
     "metadata": {},
     "output_type": "execute_result"
    }
   ],
   "source": [
    "# Tamanho da lista: len (lenght)\n",
    "len(times)"
   ]
  },
  {
   "cell_type": "code",
   "execution_count": 22,
   "id": "5d939f25",
   "metadata": {},
   "outputs": [
    {
     "name": "stdout",
     "output_type": "stream",
     "text": [
      "Santos\n",
      "Corinthians\n",
      "São Paulo\n",
      "Palmeiras\n"
     ]
    }
   ],
   "source": [
    "for i in range(len(times)):\n",
    "    print(times[i])"
   ]
  },
  {
   "cell_type": "code",
   "execution_count": 24,
   "id": "a358793b",
   "metadata": {},
   "outputs": [
    {
     "name": "stdout",
     "output_type": "stream",
     "text": [
      "Santos\n",
      "Corinthians\n",
      "São Paulo\n",
      "Palmeiras\n"
     ]
    }
   ],
   "source": [
    "# Acessando os elementos \"Diretamente\": for each\n",
    "\n",
    "for time in times:\n",
    "    print(time)"
   ]
  },
  {
   "cell_type": "code",
   "execution_count": 25,
   "id": "1af552eb",
   "metadata": {},
   "outputs": [
    {
     "name": "stdout",
     "output_type": "stream",
     "text": [
      "s\n",
      "a\n",
      "n\n",
      "t\n",
      "o\n",
      "s\n"
     ]
    }
   ],
   "source": [
    "# Pegando caracteres de uma string com o for each\n",
    "for letra in 'santos':\n",
    "    print(letra)"
   ]
  },
  {
   "cell_type": "code",
   "execution_count": 31,
   "id": "3f2ae9bd",
   "metadata": {},
   "outputs": [],
   "source": [
    "# Adicionando elementos em uma lista: append\n",
    "\n",
    "times.append('Guarani')"
   ]
  },
  {
   "cell_type": "code",
   "execution_count": 32,
   "id": "268949de",
   "metadata": {},
   "outputs": [
    {
     "name": "stdout",
     "output_type": "stream",
     "text": [
      "['Santos', 'Corinthians', 'São Paulo', 'Palmeiras', 'Guarani']\n"
     ]
    }
   ],
   "source": [
    "print(times)"
   ]
  },
  {
   "cell_type": "code",
   "execution_count": 33,
   "id": "dfdb37a2",
   "metadata": {},
   "outputs": [
    {
     "name": "stdout",
     "output_type": "stream",
     "text": [
      "Nome do torcedor do Bahia: Kaio\n",
      "Nome do torcedor do Bahia: Mila\n",
      "Nome do torcedor do Bahia: Elton\n",
      "Nome do torcedor do Bahia: Naíra\n",
      "Nome do torcedor do Bahia: \n",
      "['Kaio', 'Mila', 'Elton', 'Naíra', '']\n"
     ]
    }
   ],
   "source": [
    "torcedores_do_bahia = []\n",
    "\n",
    "nome = 'a'\n",
    "while nome != '':\n",
    "    nome = input('Nome do torcedor do Bahia: ')\n",
    "    torcedores_do_bahia.append(nome)\n",
    "    \n",
    "print(torcedores_do_bahia)"
   ]
  },
  {
   "cell_type": "code",
   "execution_count": 34,
   "id": "61d75aac",
   "metadata": {},
   "outputs": [],
   "source": [
    "# Removendo um elemento da lista com a função remove\n",
    "torcedores_do_bahia.remove('')"
   ]
  },
  {
   "cell_type": "code",
   "execution_count": 35,
   "id": "8fd9aff9",
   "metadata": {},
   "outputs": [
    {
     "data": {
      "text/plain": [
       "['Kaio', 'Mila', 'Elton', 'Naíra']"
      ]
     },
     "execution_count": 35,
     "metadata": {},
     "output_type": "execute_result"
    }
   ],
   "source": [
    "torcedores_do_bahia"
   ]
  },
  {
   "cell_type": "code",
   "execution_count": 36,
   "id": "d0808294",
   "metadata": {},
   "outputs": [],
   "source": [
    "# Removendo pelo índice (posição)\n",
    "del(torcedores_do_bahia[2])"
   ]
  },
  {
   "cell_type": "code",
   "execution_count": 40,
   "id": "f82fabab",
   "metadata": {},
   "outputs": [
    {
     "data": {
      "text/plain": [
       "['Sandro', 'Kaio', 'Mila', 'Naíra']"
      ]
     },
     "execution_count": 40,
     "metadata": {},
     "output_type": "execute_result"
    }
   ],
   "source": [
    "torcedores_do_bahia"
   ]
  },
  {
   "cell_type": "code",
   "execution_count": 39,
   "id": "caa5f176",
   "metadata": {},
   "outputs": [
    {
     "data": {
      "text/plain": [
       "(None, ['Sandro', 'Kaio', 'Mila', 'Naíra'])"
      ]
     },
     "execution_count": 39,
     "metadata": {},
     "output_type": "execute_result"
    }
   ],
   "source": [
    "# Adicionando um elemento onde eu quiser\n",
    "torcedores_do_bahia.insert(0, 'Sandro'), torcedores_do_bahia"
   ]
  },
  {
   "cell_type": "code",
   "execution_count": 41,
   "id": "47c618e5",
   "metadata": {},
   "outputs": [
    {
     "data": {
      "text/plain": [
       "['Sandro', 'Kaio', 'Mila', 'Naíra']"
      ]
     },
     "execution_count": 41,
     "metadata": {},
     "output_type": "execute_result"
    }
   ],
   "source": [
    "torcedores_do_bahia"
   ]
  },
  {
   "cell_type": "code",
   "execution_count": 42,
   "id": "348d2850",
   "metadata": {},
   "outputs": [],
   "source": [
    "# Ordenando uma lista: sort\n",
    "torcedores_do_bahia.sort()"
   ]
  },
  {
   "cell_type": "code",
   "execution_count": 43,
   "id": "39317de8",
   "metadata": {},
   "outputs": [
    {
     "data": {
      "text/plain": [
       "['Kaio', 'Mila', 'Naíra', 'Sandro']"
      ]
     },
     "execution_count": 43,
     "metadata": {},
     "output_type": "execute_result"
    }
   ],
   "source": [
    "torcedores_do_bahia"
   ]
  },
  {
   "cell_type": "code",
   "execution_count": 45,
   "id": "69ae7806",
   "metadata": {},
   "outputs": [],
   "source": [
    "torcedores_do_bahia.sort(reverse=True)"
   ]
  },
  {
   "cell_type": "code",
   "execution_count": 46,
   "id": "1b16b066",
   "metadata": {},
   "outputs": [
    {
     "data": {
      "text/plain": [
       "['Sandro', 'Naíra', 'Mila', 'Kaio']"
      ]
     },
     "execution_count": 46,
     "metadata": {},
     "output_type": "execute_result"
    }
   ],
   "source": [
    "torcedores_do_bahia"
   ]
  },
  {
   "cell_type": "code",
   "execution_count": 47,
   "id": "59530652",
   "metadata": {},
   "outputs": [],
   "source": [
    "numeros = [19, 1, 25, -5, 0, 7]"
   ]
  },
  {
   "cell_type": "code",
   "execution_count": 48,
   "id": "b5379646",
   "metadata": {},
   "outputs": [
    {
     "data": {
      "text/plain": [
       "[19, 1, 25, -5, 0, 7]"
      ]
     },
     "execution_count": 48,
     "metadata": {},
     "output_type": "execute_result"
    }
   ],
   "source": [
    "numeros"
   ]
  },
  {
   "cell_type": "code",
   "execution_count": 49,
   "id": "9bc679d9",
   "metadata": {},
   "outputs": [
    {
     "data": {
      "text/plain": [
       "(-5, 25)"
      ]
     },
     "execution_count": 49,
     "metadata": {},
     "output_type": "execute_result"
    }
   ],
   "source": [
    "# Retornando máximo e mínimo de uma lista\n",
    "min(numeros), max(numeros)"
   ]
  },
  {
   "cell_type": "code",
   "execution_count": 50,
   "id": "326c3295",
   "metadata": {},
   "outputs": [
    {
     "data": {
      "text/plain": [
       "'Kaio'"
      ]
     },
     "execution_count": 50,
     "metadata": {},
     "output_type": "execute_result"
    }
   ],
   "source": [
    "min(torcedores_do_bahia)"
   ]
  },
  {
   "cell_type": "code",
   "execution_count": 51,
   "id": "9129f67b",
   "metadata": {},
   "outputs": [
    {
     "ename": "TypeError",
     "evalue": "'<' not supported between instances of 'int' and 'str'",
     "output_type": "error",
     "traceback": [
      "\u001b[1;31m---------------------------------------------------------------------------\u001b[0m",
      "\u001b[1;31mTypeError\u001b[0m                                 Traceback (most recent call last)",
      "Input \u001b[1;32mIn [51]\u001b[0m, in \u001b[0;36m<cell line: 3>\u001b[1;34m()\u001b[0m\n\u001b[0;32m      1\u001b[0m \u001b[38;5;66;03m# Tentando ordenar uma lista de tipos diferentes\u001b[39;00m\n\u001b[0;32m      2\u001b[0m lista \u001b[38;5;241m=\u001b[39m [\u001b[38;5;124m'\u001b[39m\u001b[38;5;124mSantos\u001b[39m\u001b[38;5;124m'\u001b[39m, \u001b[38;5;241m23\u001b[39m, \u001b[38;5;28;01mTrue\u001b[39;00m]\n\u001b[1;32m----> 3\u001b[0m \u001b[43mlista\u001b[49m\u001b[38;5;241;43m.\u001b[39;49m\u001b[43msort\u001b[49m\u001b[43m(\u001b[49m\u001b[43m)\u001b[49m\n",
      "\u001b[1;31mTypeError\u001b[0m: '<' not supported between instances of 'int' and 'str'"
     ]
    }
   ],
   "source": [
    "# Tentando ordenar uma lista de tipos diferentes\n",
    "lista = ['Santos', 23, True]\n",
    "lista.sort()"
   ]
  },
  {
   "cell_type": "code",
   "execution_count": 53,
   "id": "573b756d",
   "metadata": {},
   "outputs": [
    {
     "data": {
      "text/plain": [
       "(True, False)"
      ]
     },
     "execution_count": 53,
     "metadata": {},
     "output_type": "execute_result"
    }
   ],
   "source": [
    "# Verificando se um elemento está na lista\n",
    "'Kaio' in torcedores_do_bahia, 'Ale' in torcedores_do_bahia"
   ]
  },
  {
   "cell_type": "code",
   "execution_count": 54,
   "id": "8c6960d6",
   "metadata": {},
   "outputs": [],
   "source": [
    "if 'Ale' not in torcedores_do_bahia:\n",
    "    torcedores_do_bahia.append('Ale')"
   ]
  },
  {
   "cell_type": "code",
   "execution_count": 55,
   "id": "ae0e2bed",
   "metadata": {},
   "outputs": [
    {
     "data": {
      "text/plain": [
       "['Sandro', 'Naíra', 'Mila', 'Kaio', 'Ale']"
      ]
     },
     "execution_count": 55,
     "metadata": {},
     "output_type": "execute_result"
    }
   ],
   "source": [
    "torcedores_do_bahia"
   ]
  },
  {
   "cell_type": "code",
   "execution_count": 56,
   "id": "c26cf276",
   "metadata": {},
   "outputs": [
    {
     "name": "stdout",
     "output_type": "stream",
     "text": [
      "3\n",
      "Santos\n",
      "True\n",
      "5\n",
      "3\n",
      "0\n"
     ]
    }
   ],
   "source": [
    "# Exercícios\n",
    "\n",
    "# Mostrando todos os elementos da lista incluindo e da lista interna\n",
    "lista = [3,'Santos', True, [5,3,0]]\n",
    "\n",
    "for elem in lista:\n",
    "    if type(elem) == type(lista):\n",
    "        for elem2 in elem:\n",
    "            print(elem2)\n",
    "    else:\n",
    "        print(elem)\n"
   ]
  },
  {
   "cell_type": "code",
   "execution_count": null,
   "id": "74d9560f",
   "metadata": {},
   "outputs": [],
   "source": []
  }
 ],
 "metadata": {
  "kernelspec": {
   "display_name": "Python 3 (ipykernel)",
   "language": "python",
   "name": "python3"
  },
  "language_info": {
   "codemirror_mode": {
    "name": "ipython",
    "version": 3
   },
   "file_extension": ".py",
   "mimetype": "text/x-python",
   "name": "python",
   "nbconvert_exporter": "python",
   "pygments_lexer": "ipython3",
   "version": "3.10.5"
  }
 },
 "nbformat": 4,
 "nbformat_minor": 5
}
