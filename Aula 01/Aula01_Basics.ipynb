{
 "cells": [
  {
   "cell_type": "code",
   "execution_count": 3,
   "id": "cd722ab2",
   "metadata": {},
   "outputs": [],
   "source": [
    "# Para fazer \"comentários\" usamos o \"#\"!"
   ]
  },
  {
   "cell_type": "code",
   "execution_count": 7,
   "id": "c5313784",
   "metadata": {},
   "outputs": [],
   "source": [
    "# Há como utilizar operadores matemáticos no código (basic)"
   ]
  },
  {
   "cell_type": "code",
   "execution_count": 8,
   "id": "b384816d",
   "metadata": {},
   "outputs": [
    {
     "data": {
      "text/plain": [
       "5"
      ]
     },
     "execution_count": 8,
     "metadata": {},
     "output_type": "execute_result"
    }
   ],
   "source": [
    "# Efetuando uma soma!\n",
    "2 + 3"
   ]
  },
  {
   "cell_type": "code",
   "execution_count": 9,
   "id": "8d3aafc8",
   "metadata": {},
   "outputs": [
    {
     "data": {
      "text/plain": [
       "-1"
      ]
     },
     "execution_count": 9,
     "metadata": {},
     "output_type": "execute_result"
    }
   ],
   "source": [
    "# Efetuando uma subtração\n",
    "2 - 3"
   ]
  },
  {
   "cell_type": "code",
   "execution_count": 10,
   "id": "45658b9b",
   "metadata": {},
   "outputs": [
    {
     "data": {
      "text/plain": [
       "6"
      ]
     },
     "execution_count": 10,
     "metadata": {},
     "output_type": "execute_result"
    }
   ],
   "source": [
    "# Efetuando uma multiplicação\n",
    "2 * 3"
   ]
  },
  {
   "cell_type": "code",
   "execution_count": 13,
   "id": "93ee4b78",
   "metadata": {},
   "outputs": [
    {
     "ename": "SyntaxError",
     "evalue": "invalid syntax (3632510636.py, line 2)",
     "output_type": "error",
     "traceback": [
      "\u001b[1;36m  Input \u001b[1;32mIn [13]\u001b[1;36m\u001b[0m\n\u001b[1;33m    2 *\u001b[0m\n\u001b[1;37m        ^\u001b[0m\n\u001b[1;31mSyntaxError\u001b[0m\u001b[1;31m:\u001b[0m invalid syntax\n"
     ]
    }
   ],
   "source": [
    "# Testando erros. Por que está errado?\n",
    "2 * "
   ]
  },
  {
   "cell_type": "code",
   "execution_count": 14,
   "id": "c55c9df7",
   "metadata": {},
   "outputs": [
    {
     "ename": "IndentationError",
     "evalue": "unexpected indent (1658021825.py, line 2)",
     "output_type": "error",
     "traceback": [
      "\u001b[1;36m  Input \u001b[1;32mIn [14]\u001b[1;36m\u001b[0m\n\u001b[1;33m    2 * 3\u001b[0m\n\u001b[1;37m    ^\u001b[0m\n\u001b[1;31mIndentationError\u001b[0m\u001b[1;31m:\u001b[0m unexpected indent\n"
     ]
    }
   ],
   "source": [
    "# Testando erros \n",
    " 2 * 3 "
   ]
  },
  {
   "cell_type": "code",
   "execution_count": 15,
   "id": "d42284ae",
   "metadata": {},
   "outputs": [
    {
     "data": {
      "text/plain": [
       "0.6666666666666666"
      ]
     },
     "execution_count": 15,
     "metadata": {},
     "output_type": "execute_result"
    }
   ],
   "source": [
    "# Testando uma divisão\n",
    "2 / 3"
   ]
  },
  {
   "cell_type": "code",
   "execution_count": 16,
   "id": "53746ca6",
   "metadata": {},
   "outputs": [
    {
     "data": {
      "text/plain": [
       "2"
      ]
     },
     "execution_count": 16,
     "metadata": {},
     "output_type": "execute_result"
    }
   ],
   "source": [
    "# Testando módulo (resto da divisão)\n",
    "2 % 3 "
   ]
  },
  {
   "cell_type": "code",
   "execution_count": 17,
   "id": "37075a3e",
   "metadata": {},
   "outputs": [
    {
     "data": {
      "text/plain": [
       "3"
      ]
     },
     "execution_count": 17,
     "metadata": {},
     "output_type": "execute_result"
    }
   ],
   "source": [
    "# Testando a divisão por inteiros\n",
    "23 // 6"
   ]
  },
  {
   "cell_type": "code",
   "execution_count": 18,
   "id": "8b1a6d54",
   "metadata": {},
   "outputs": [
    {
     "data": {
      "text/plain": [
       "0"
      ]
     },
     "execution_count": 18,
     "metadata": {},
     "output_type": "execute_result"
    }
   ],
   "source": [
    "# Denominador maior que numerador\n",
    "4 // 19"
   ]
  },
  {
   "cell_type": "code",
   "execution_count": 19,
   "id": "efaa27d5",
   "metadata": {},
   "outputs": [
    {
     "data": {
      "text/plain": [
       "4"
      ]
     },
     "execution_count": 19,
     "metadata": {},
     "output_type": "execute_result"
    }
   ],
   "source": [
    "4 % 9"
   ]
  },
  {
   "cell_type": "code",
   "execution_count": 21,
   "id": "1c5d8f2a",
   "metadata": {},
   "outputs": [
    {
     "data": {
      "text/plain": [
       "8"
      ]
     },
     "execution_count": 21,
     "metadata": {},
     "output_type": "execute_result"
    }
   ],
   "source": [
    "# Testando Potência\n",
    "2 ** 3"
   ]
  },
  {
   "cell_type": "code",
   "execution_count": 22,
   "id": "2d5d1996",
   "metadata": {},
   "outputs": [
    {
     "data": {
      "text/plain": [
       "6.0"
      ]
     },
     "execution_count": 22,
     "metadata": {},
     "output_type": "execute_result"
    }
   ],
   "source": [
    "# Radiciação\n",
    "36 ** (0.5) # 36 ** (.5), 36 ** (1/2)"
   ]
  },
  {
   "cell_type": "code",
   "execution_count": 23,
   "id": "9f677411",
   "metadata": {},
   "outputs": [
    {
     "data": {
      "text/plain": [
       "(2, 0, 0.1)"
      ]
     },
     "execution_count": 23,
     "metadata": {},
     "output_type": "execute_result"
    }
   ],
   "source": [
    "# Mostrando mais de um resultado\n",
    "2 % 20, 2 // 20, 2 / 20"
   ]
  },
  {
   "cell_type": "code",
   "execution_count": 24,
   "id": "dd10be22",
   "metadata": {},
   "outputs": [
    {
     "data": {
      "text/plain": [
       "1998"
      ]
     },
     "execution_count": 24,
     "metadata": {},
     "output_type": "execute_result"
    }
   ],
   "source": [
    "# Calculando o ano de nascimento\n",
    "2022 - 24"
   ]
  },
  {
   "cell_type": "code",
   "execution_count": null,
   "id": "e433f3d7",
   "metadata": {},
   "outputs": [],
   "source": []
  },
  {
   "cell_type": "code",
   "execution_count": 27,
   "id": "3a6a5ee7",
   "metadata": {},
   "outputs": [],
   "source": [
    "# Utilizando variáveis\n",
    "idade = 24 # --> '=' --> atribuição\n",
    "ano = 2022"
   ]
  },
  {
   "cell_type": "code",
   "execution_count": 26,
   "id": "ecc15fab",
   "metadata": {},
   "outputs": [
    {
     "data": {
      "text/plain": [
       "24"
      ]
     },
     "execution_count": 26,
     "metadata": {},
     "output_type": "execute_result"
    }
   ],
   "source": [
    "idade"
   ]
  },
  {
   "cell_type": "code",
   "execution_count": 28,
   "id": "a82c6a37",
   "metadata": {},
   "outputs": [
    {
     "data": {
      "text/plain": [
       "1998"
      ]
     },
     "execution_count": 28,
     "metadata": {},
     "output_type": "execute_result"
    }
   ],
   "source": [
    "# Operações com variáveis\n",
    "ano - idade"
   ]
  },
  {
   "cell_type": "code",
   "execution_count": 30,
   "id": "632a95c0",
   "metadata": {},
   "outputs": [],
   "source": [
    "# Tipo de variáveis\n",
    "# Inteiros: int\n",
    "# String: str (textos)\n",
    "#Boolean:  bool (Verdadeiro/Falso) --> True/False\n",
    "#Float: float (decimais --> números em ponto flutuante)"
   ]
  },
  {
   "cell_type": "code",
   "execution_count": 31,
   "id": "e8d8482a",
   "metadata": {},
   "outputs": [],
   "source": [
    "# Inteiros\n",
    "idade = 32"
   ]
  },
  {
   "cell_type": "code",
   "execution_count": 33,
   "id": "282a4dc3",
   "metadata": {},
   "outputs": [],
   "source": [
    "# Float\n",
    "altura = 1.75"
   ]
  },
  {
   "cell_type": "code",
   "execution_count": 34,
   "id": "8a134cba",
   "metadata": {},
   "outputs": [],
   "source": [
    "# String\n",
    "nome = 'Samira'"
   ]
  },
  {
   "cell_type": "code",
   "execution_count": 35,
   "id": "c0fe1c1e",
   "metadata": {},
   "outputs": [
    {
     "data": {
      "text/plain": [
       "'Samira'"
      ]
     },
     "execution_count": 35,
     "metadata": {},
     "output_type": "execute_result"
    }
   ],
   "source": [
    "nome"
   ]
  },
  {
   "cell_type": "code",
   "execution_count": 37,
   "id": "ecbeed67",
   "metadata": {},
   "outputs": [
    {
     "data": {
      "text/plain": [
       "(str, int, float)"
      ]
     },
     "execution_count": 37,
     "metadata": {},
     "output_type": "execute_result"
    }
   ],
   "source": [
    "# Descobrindo tipo de variáveis: type(nome_da_variável)\n",
    "type(nome), type(idade), type(altura)"
   ]
  },
  {
   "cell_type": "code",
   "execution_count": 38,
   "id": "6a7fd318",
   "metadata": {},
   "outputs": [
    {
     "data": {
      "text/plain": [
       "(True, bool)"
      ]
     },
     "execution_count": 38,
     "metadata": {},
     "output_type": "execute_result"
    }
   ],
   "source": [
    "# Lógica: Boolean --> True(verdadeir)/False (falso)\n",
    "sentinela = True\n",
    "sentinela, type(sentinela)"
   ]
  },
  {
   "cell_type": "code",
   "execution_count": 39,
   "id": "1bff1297",
   "metadata": {},
   "outputs": [],
   "source": [
    "# Comparações: \n",
    "# == (igual)\n",
    "# != (diferente)\n",
    "# > (maior que)\n",
    "# >= (maior ou igual a)\n",
    "# < (menor que)\n",
    "# <= (menor ou igual a)"
   ]
  },
  {
   "cell_type": "code",
   "execution_count": 43,
   "id": "1409fa2f",
   "metadata": {},
   "outputs": [
    {
     "data": {
      "text/plain": [
       "(False, True, True)"
      ]
     },
     "execution_count": 43,
     "metadata": {},
     "output_type": "execute_result"
    }
   ],
   "source": [
    "idade1 = 30\n",
    "idade2 = 31\n",
    "\n",
    "idade1 == idade2, idade1 != idade2, idade1 <= idade2"
   ]
  },
  {
   "cell_type": "code",
   "execution_count": 49,
   "id": "3e4a5fa5",
   "metadata": {},
   "outputs": [
    {
     "name": "stdout",
     "output_type": "stream",
     "text": [
      "Digite seu nome: Kaio\n"
     ]
    }
   ],
   "source": [
    "# Entrada de dados pelo teclado\n",
    "nome = input('Digite seu nome: ')"
   ]
  },
  {
   "cell_type": "code",
   "execution_count": 51,
   "id": "93aac8b1",
   "metadata": {},
   "outputs": [
    {
     "data": {
      "text/plain": [
       "('Kaio', str)"
      ]
     },
     "execution_count": 51,
     "metadata": {},
     "output_type": "execute_result"
    }
   ],
   "source": [
    "nome, type(nome)"
   ]
  },
  {
   "cell_type": "code",
   "execution_count": 55,
   "id": "680b037c",
   "metadata": {},
   "outputs": [
    {
     "name": "stdout",
     "output_type": "stream",
     "text": [
      "Digite sua idade: 20\n",
      "Digite o ano atual: 2022\n"
     ]
    }
   ],
   "source": [
    "# Tratando dados recebidos pelo usuário --> Casting (mudança de tipo)\n",
    "idade = int(input('Digite sua idade: '))\n",
    "ano_atual = int(input('Digite o ano atual: '))"
   ]
  },
  {
   "cell_type": "code",
   "execution_count": 56,
   "id": "0d4774b8",
   "metadata": {},
   "outputs": [
    {
     "data": {
      "text/plain": [
       "(20, int, 2022, int)"
      ]
     },
     "execution_count": 56,
     "metadata": {},
     "output_type": "execute_result"
    }
   ],
   "source": [
    "idade, type(idade), ano_atual, type(ano_atual)"
   ]
  },
  {
   "cell_type": "code",
   "execution_count": 57,
   "id": "598e1bfa",
   "metadata": {},
   "outputs": [
    {
     "data": {
      "text/plain": [
       "2002"
      ]
     },
     "execution_count": 57,
     "metadata": {},
     "output_type": "execute_result"
    }
   ],
   "source": [
    "ano_atual - idade"
   ]
  },
  {
   "cell_type": "code",
   "execution_count": 58,
   "id": "6f778c37",
   "metadata": {},
   "outputs": [
    {
     "data": {
      "text/plain": [
       "\"Let's Code\""
      ]
     },
     "execution_count": 58,
     "metadata": {},
     "output_type": "execute_result"
    }
   ],
   "source": [
    "# Explorando aspas simples e duplas\n",
    "empresa = \"Let's Code\"\n",
    "empresa"
   ]
  },
  {
   "cell_type": "code",
   "execution_count": 59,
   "id": "e43f6ac8",
   "metadata": {},
   "outputs": [],
   "source": [
    "empresa = 'Let\"s Code'"
   ]
  },
  {
   "cell_type": "code",
   "execution_count": 60,
   "id": "84319ae0",
   "metadata": {},
   "outputs": [
    {
     "data": {
      "text/plain": [
       "'Let\"s Code'"
      ]
     },
     "execution_count": 60,
     "metadata": {},
     "output_type": "execute_result"
    }
   ],
   "source": [
    "empresa"
   ]
  },
  {
   "cell_type": "code",
   "execution_count": 15,
   "id": "1d717019",
   "metadata": {},
   "outputs": [],
   "source": [
    "citacao2 = \"Onde você estuda? \\\"Na Let's Code\\\", respondeu\""
   ]
  },
  {
   "cell_type": "code",
   "execution_count": 16,
   "id": "f1cb0cc4",
   "metadata": {},
   "outputs": [
    {
     "name": "stdout",
     "output_type": "stream",
     "text": [
      "Onde você estuda? \"Na Let's Code\", respondeu\n"
     ]
    }
   ],
   "source": [
    "print(citacao2)"
   ]
  },
  {
   "cell_type": "code",
   "execution_count": null,
   "id": "be1be456",
   "metadata": {},
   "outputs": [],
   "source": []
  }
 ],
 "metadata": {
  "kernelspec": {
   "display_name": "Python 3 (ipykernel)",
   "language": "python",
   "name": "python3"
  },
  "language_info": {
   "codemirror_mode": {
    "name": "ipython",
    "version": 3
   },
   "file_extension": ".py",
   "mimetype": "text/x-python",
   "name": "python",
   "nbconvert_exporter": "python",
   "pygments_lexer": "ipython3",
   "version": "3.10.5"
  }
 },
 "nbformat": 4,
 "nbformat_minor": 5
}
