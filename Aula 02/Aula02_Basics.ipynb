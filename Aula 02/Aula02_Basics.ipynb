{
 "cells": [
  {
   "cell_type": "code",
   "execution_count": 1,
   "id": "36986336",
   "metadata": {},
   "outputs": [
    {
     "name": "stdout",
     "output_type": "stream",
     "text": [
      "casa\n",
      "123\n"
     ]
    }
   ],
   "source": [
    "# Mostrando algo na tela (output), print\n",
    "\n",
    "print('casa')\n",
    "\n",
    "numero = 123\n",
    "\n",
    "print(numero)"
   ]
  },
  {
   "cell_type": "code",
   "execution_count": 6,
   "id": "1dc5f09c",
   "metadata": {},
   "outputs": [
    {
     "name": "stdout",
     "output_type": "stream",
     "text": [
      "O Alexandre tem 1.81 m\n"
     ]
    }
   ],
   "source": [
    "nome = 'Alexandre'\n",
    "altura = 1.81\n",
    "\n",
    "print('O', nome,'tem', altura,'m')"
   ]
  },
  {
   "cell_type": "code",
   "execution_count": 7,
   "id": "0ec1de34",
   "metadata": {},
   "outputs": [
    {
     "name": "stdout",
     "output_type": "stream",
     "text": [
      "O Alexandre tem 1.81m\n"
     ]
    }
   ],
   "source": [
    "# Printando um f-string (concatenando esse treco)\n",
    "print(f'O {nome} tem {altura}m')"
   ]
  },
  {
   "cell_type": "code",
   "execution_count": 8,
   "id": "e1239452",
   "metadata": {},
   "outputs": [
    {
     "name": "stdout",
     "output_type": "stream",
     "text": [
      "Entrei no If\n"
     ]
    }
   ],
   "source": [
    "# Estruturas condicionais\n",
    "# Se --> if (cria um bloco, e dependendo da condição atendida - true or false -, executa seus comandos)\n",
    "booleano = True\n",
    "if booleano:\n",
    "    print('Entrei no If')"
   ]
  },
  {
   "cell_type": "code",
   "execution_count": 9,
   "id": "3d6831d4",
   "metadata": {},
   "outputs": [],
   "source": [
    "booleano = False\n",
    "if booleano:\n",
    "    print('Entrei no If')"
   ]
  },
  {
   "cell_type": "code",
   "execution_count": 10,
   "id": "cb9d8cad",
   "metadata": {},
   "outputs": [
    {
     "name": "stdout",
     "output_type": "stream",
     "text": [
      "Você não é giga big\n"
     ]
    }
   ],
   "source": [
    "if altura < 2:\n",
    "    print('Você não é giga big')"
   ]
  },
  {
   "cell_type": "code",
   "execution_count": 13,
   "id": "dd2aa44a",
   "metadata": {},
   "outputs": [],
   "source": [
    "# Tabela-verdade\n",
    "# Usar and para -> e\n",
    "# usar or para -> ou\n",
    "idade = 25"
   ]
  },
  {
   "cell_type": "code",
   "execution_count": 14,
   "id": "53397a75",
   "metadata": {},
   "outputs": [
    {
     "name": "stdout",
     "output_type": "stream",
     "text": [
      "Não vai entrar n man\n"
     ]
    }
   ],
   "source": [
    "# Else --> se não\n",
    "if idade > 30:\n",
    "    print('Pode entrar')\n",
    "else: \n",
    "    print('Não vai entrar n man')"
   ]
  },
  {
   "cell_type": "code",
   "execution_count": 15,
   "id": "cbf31d39",
   "metadata": {},
   "outputs": [
    {
     "name": "stdout",
     "output_type": "stream",
     "text": [
      "Pode entrar\n",
      "Tá frio p caralho\n"
     ]
    }
   ],
   "source": [
    "# Else --> se não\n",
    "temperatura = 9\n",
    "if idade < 30 or altura < 2.1:\n",
    "    print('Pode entrar')\n",
    "else: \n",
    "    print('Espere um pouco ou ENCOLHA.')\n",
    "    \n",
    "if temperatura < 10:\n",
    "    print('Tá frio p caramba')"
   ]
  },
  {
   "cell_type": "code",
   "execution_count": 17,
   "id": "f2362bd8",
   "metadata": {},
   "outputs": [
    {
     "name": "stdout",
     "output_type": "stream",
     "text": [
      "Average man\n"
     ]
    }
   ],
   "source": [
    "altura = 1.79\n",
    "if altura <= 1.60:\n",
    "    print('Baixíssimo')\n",
    "elif altura < 1.80:\n",
    "    print('Average man')\n",
    "else:\n",
    "    print('Cata manga')"
   ]
  },
  {
   "cell_type": "code",
   "execution_count": 19,
   "id": "a4cb62bc",
   "metadata": {},
   "outputs": [],
   "source": [
    "# Reproduzindo o resultado acima com if's (Observação: como não fazer!)\n"
   ]
  },
  {
   "cell_type": "code",
   "execution_count": null,
   "id": "a91eb25d",
   "metadata": {},
   "outputs": [],
   "source": []
  }
 ],
 "metadata": {
  "kernelspec": {
   "display_name": "Python 3 (ipykernel)",
   "language": "python",
   "name": "python3"
  },
  "language_info": {
   "codemirror_mode": {
    "name": "ipython",
    "version": 3
   },
   "file_extension": ".py",
   "mimetype": "text/x-python",
   "name": "python",
   "nbconvert_exporter": "python",
   "pygments_lexer": "ipython3",
   "version": "3.10.5"
  }
 },
 "nbformat": 4,
 "nbformat_minor": 5
}
