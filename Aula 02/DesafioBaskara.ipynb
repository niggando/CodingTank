{
 "cells": [
  {
   "cell_type": "code",
   "execution_count": null,
   "id": "9bad53f6",
   "metadata": {},
   "outputs": [],
   "source": [
    "#PROBLEMA EXTRA: Faça um programa que peça os 3 coeficientes (inteiros) de uma equação do segundo grau e imprima as duas soluções.\n",
    "# Obs: Só pode aparecer número inteiro na resposta final\n",
    "\n",
    "a = int(input('Digite o coeficiente A: '))\n",
    "b = int(input('Digite o coeficiente B: '))\n",
    "c = int(input('Digite o coeficiente C: '))\n",
    "\n",
    "delta = b**2 - (4*a*c)\n",
    "\n",
    "x1 = (-b +delta ** 0.5) / (2 * a)\n",
    "x2 = (-b -delta ** 0.5) / (2 * a)\n",
    "\n",
    "# if delta ** 0.5 - int(delta**0.5) != 0 --> radicando = delta? Quem vai ser meu x1\n",
    "\n",
    "if x1 == int(x1):\n",
    "    aux = int(x1)\n",
    "    aux2 = int(x2)\n",
    "\n",
    "if delta > 0:\n",
    "    print(f'Há duas raizes, X1 {aux} e X2 {aux2}')\n",
    "elif delta == 0:\n",
    "    print(f'As duas raizes são iguais, sendo o valor {aux}')\n",
    "else: \n",
    "    print('Não existem raizes')\n"
   ]
  },
  {
   "cell_type": "code",
   "execution_count": null,
   "id": "9381b47f",
   "metadata": {},
   "outputs": [],
   "source": [
    "# Tratando a entrada das datas\n",
    "\n",
    "mes = -1\n",
    "\n",
    "while mes < 1 or mes > 12:\n",
    "    mes = int(input('Digite o mês de nascimento (entre 1 e 12)'))\n",
    "\n",
    "dia = -1\n",
    "\n",
    "while dia < 1 or dia > 31:\n",
    "    dia = int(input('Digite o dia de nascimento (Entre 1 e 31) '))\n",
    "    \n",
    "    if dia > 28 and mes == 2:\n",
    "        print('Não há mais de 28 dias em Fevereiro')\n",
    "    "
   ]
  }
 ],
 "metadata": {
  "kernelspec": {
   "display_name": "Python 3 (ipykernel)",
   "language": "python",
   "name": "python3"
  },
  "language_info": {
   "codemirror_mode": {
    "name": "ipython",
    "version": 3
   },
   "file_extension": ".py",
   "mimetype": "text/x-python",
   "name": "python",
   "nbconvert_exporter": "python",
   "pygments_lexer": "ipython3",
   "version": "3.10.5"
  }
 },
 "nbformat": 4,
 "nbformat_minor": 5
}
