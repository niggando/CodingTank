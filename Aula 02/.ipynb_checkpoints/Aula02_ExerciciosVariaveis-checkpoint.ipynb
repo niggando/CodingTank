{
 "cells": [
  {
   "cell_type": "code",
   "execution_count": 2,
   "id": "b6b43b44",
   "metadata": {},
   "outputs": [
    {
     "name": "stdout",
     "output_type": "stream",
     "text": [
      "Olá, mundo!\n"
     ]
    }
   ],
   "source": [
    "#1 - Código que exiba \"Olá, Mundo!\"\n",
    "print(\"Olá, mundo!\")"
   ]
  },
  {
   "cell_type": "code",
   "execution_count": 3,
   "id": "dc180bf2",
   "metadata": {},
   "outputs": [
    {
     "name": "stdout",
     "output_type": "stream",
     "text": [
      "Digite um número: 5\n",
      "O número informado foi 5.\n"
     ]
    }
   ],
   "source": [
    "#2 - Faça um programa que peça um número e mostre a mensagem \"O número informado foi [número]\".\n",
    "numero = int(input('Digite um número: '))\n",
    "print(f'O número informado foi {numero}.')"
   ]
  },
  {
   "cell_type": "code",
   "execution_count": 4,
   "id": "1ee4f87e",
   "metadata": {},
   "outputs": [
    {
     "name": "stdout",
     "output_type": "stream",
     "text": [
      "Digite um número: 1.5\n",
      "O número informado foi 1.5\n"
     ]
    }
   ],
   "source": [
    "#3 - Faça um programa que peça um número para o usuário (string), converta-o para float e depois imprima-o na tela. Você consegue fazer a mesma coisa convertendo para int?\n",
    "\n",
    "numero = float(input('Digite um número: '))\n",
    "print(f'O número informado foi {numero}')"
   ]
  },
  {
   "cell_type": "code",
   "execution_count": 5,
   "id": "440e97fa",
   "metadata": {},
   "outputs": [
    {
     "name": "stdout",
     "output_type": "stream",
     "text": [
      "Digite o primeiro número: 5\n",
      "Digite o segundo número: 5\n",
      "A soma dos números foi:10\n"
     ]
    }
   ],
   "source": [
    "#4 - Faça um programa que peça dois números inteiros e imprima a soma deles.\n",
    "numero1 = int(input('Digite o primeiro número: '))\n",
    "numero2 = int(input('Digite o segundo número: '))\n",
    "\n",
    "print(f'A soma dos números foi: {numero1+numero2}')"
   ]
  },
  {
   "cell_type": "code",
   "execution_count": 9,
   "id": "5c4fa2fc",
   "metadata": {},
   "outputs": [
    {
     "name": "stdout",
     "output_type": "stream",
     "text": [
      "Digite a primeira nota do aluno: 5\n",
      "Digite a segunda nota do aluno: 3\n",
      "Digite a terceira nota do aluno: 5\n",
      "Digite a quarta nota do aluno: 3\n",
      "A média das notas do aluno é 4.0\n"
     ]
    }
   ],
   "source": [
    "#5 - Faça um programa que peça 4 notas bimestrais de um aluno e mostre a média aritimética delas.\n",
    "\n",
    "nota1 = float(input('Digite a primeira nota do aluno: '))\n",
    "nota2 = float(input('Digite a segunda nota do aluno: '))\n",
    "nota3 = float(input('Digite a terceira nota do aluno: '))\n",
    "nota4 = float(input('Digite a quarta nota do aluno: '))\n",
    "\n",
    "media = (nota1+nota2+nota3+nota4)/4\n",
    "\n",
    "print(f'A média das notas do aluno é {media}')"
   ]
  },
  {
   "cell_type": "code",
   "execution_count": 11,
   "id": "91301142",
   "metadata": {},
   "outputs": [
    {
     "name": "stdout",
     "output_type": "stream",
     "text": [
      "Digite o raio do círculo: 5\n",
      "A área do círculo de raio 5.0 é 78.5\n"
     ]
    }
   ],
   "source": [
    "#6 - Faça um programa que peça um raio de um círculo, calcule e mostra sua área.\n",
    "\n",
    "raio = float(input('Digite o raio do círculo: '))\n",
    "\n",
    "area = 3.14*(raio**2)\n",
    "\n",
    "print(f'A área do círculo de raio {raio} é {area}')"
   ]
  },
  {
   "cell_type": "code",
   "execution_count": 12,
   "id": "691301e5",
   "metadata": {},
   "outputs": [
    {
     "name": "stdout",
     "output_type": "stream",
     "text": [
      "Quanto você ganha por hora? 5\n",
      "Quantas horas trabalhadas neste mês? 20\n",
      "O salário deste mês é: 100.0\n"
     ]
    }
   ],
   "source": [
    "#7 - Faça um programa que pergunte quanto você ganha por hora e o número de horas trabalhadas no mês e depois, calcule e mostre o total do seu salário no referido mês.\n",
    "\n",
    "\n",
    "valorHoras = float(input('Quanto você ganha por hora? '))\n",
    "numeroHoras = float(input('Quantas horas trabalhadas neste mês? '))\n",
    "\n",
    "salario = valorHoras * numeroHoras\n",
    "\n",
    "print(f'O salário deste mês é: {salario}')"
   ]
  },
  {
   "cell_type": "code",
   "execution_count": 15,
   "id": "363986bb",
   "metadata": {},
   "outputs": [
    {
     "name": "stdout",
     "output_type": "stream",
     "text": [
      "Digite 1 para converter Fahrenheit para Celsius ou 2 para o inverso2\n",
      "Digite a temperatura em Celsius: 32\n",
      "A temperatura em Fahrenheit é: 89.6\n"
     ]
    }
   ],
   "source": [
    "#8 - Faça um programa que peça a temperatura em graus Fahrenheit (F), transforme e mostre a temperatura em graus Celsius (°C).\n",
    "\n",
    "opcao = int(input('Digite 1 para converter Fahrenheit para Celsius ou 2 para o inverso'))\n",
    "\n",
    "if opcao == 1:\n",
    "    tempF = float(input('Digite a temperatura em Fahrenheit: '))\n",
    "    tempC = (5 * ((tempF-32)/9))\n",
    "    \n",
    "    print(f'A temperatura em Celsius é: {tempC}')\n",
    "\n",
    "elif opcao == 2:\n",
    "    tempC = float(input('Digite a temperatura em Celsius: '))\n",
    "    tempF = ((9 * tempC)/5) + 32\n",
    "    \n",
    "    print(f'A temperatura em Fahrenheit é: {tempF}')\n",
    "    \n",
    "else:\n",
    "    print('A opção digitada é inválida.')\n",
    "    \n"
   ]
  },
  {
   "cell_type": "code",
   "execution_count": 16,
   "id": "5c0169a9",
   "metadata": {},
   "outputs": [
    {
     "name": "stdout",
     "output_type": "stream",
     "text": [
      "Digite o dia: 03\n",
      "Digite o mês: 09\n",
      "Digite o ano: 1997\n",
      "A data completa é 3/9/1997\n"
     ]
    }
   ],
   "source": [
    "#9 - Faça um programa que peça o dia, o mês e o ano para o usuári oe imprima a data completa no formato dd/mm/aaaa.\n",
    "\n",
    "dia = int(input('Digite o dia: '))\n",
    "mes = int(input('Digite o mês: '))\n",
    "ano = int(input('Digite o ano: '))\n",
    "\n",
    "print(f'A data completa é {dia}/{mes}/{ano}')"
   ]
  },
  {
   "cell_type": "code",
   "execution_count": 17,
   "id": "e9a3edcb",
   "metadata": {},
   "outputs": [
    {
     "name": "stdout",
     "output_type": "stream",
     "text": [
      "Digite o primeiro número: 2\n",
      "Digite o segundo número: 4\n",
      "Digite o terceiro número: 3.5\n",
      "O resultado do item A é: 8.0\n",
      "O resultado do item B é: 9.5\n",
      "O resultado do item C é: 12.25\n"
     ]
    }
   ],
   "source": [
    "#10 - Faça um programa que peça 2 números inteiros e um número real, calcule e mostre:\n",
    "# O produto do dobro do primeiro com a metade do segundo\n",
    "# a soma do triplo do primeiro com o terceiro.\n",
    "# o terceiro elevado ao cubo\n",
    "\n",
    "num1 = int(input('Digite o primeiro número: '))\n",
    "num2 = int(input('Digite o segundo número: '))\n",
    "num3 = float(input('Digite o terceiro número: '))\n",
    "\n",
    "itemA = (2*num1) * (num2/2)\n",
    "itemB = 3*num1 + num3\n",
    "itemC = num3**2\n",
    "\n",
    "print(f'O resultado do item A é: {itemA}')\n",
    "print(f'O resultado do item B é: {itemB}')\n",
    "print(f'O resultado do item C é: {itemC}')"
   ]
  },
  {
   "cell_type": "code",
   "execution_count": 18,
   "id": "152d5816",
   "metadata": {},
   "outputs": [
    {
     "name": "stdout",
     "output_type": "stream",
     "text": [
      "Digite seu peso: 80\n",
      "Digite sua altura: 1.75\n",
      "O valor do IMC é: 26.122448979591837\n"
     ]
    }
   ],
   "source": [
    "#11 - Faça um programa que peça o peso e altura deu ma pessoa e calcule seu IMC (Indice de Massa Corporal)\n",
    "\n",
    "peso = float(input('Digite seu peso: '))\n",
    "altura = float(input('Digite sua altura: '))\n",
    "\n",
    "imc = peso/(altura**2)\n",
    "\n",
    "print(f'O valor do IMC é: {imc}')"
   ]
  },
  {
   "cell_type": "code",
   "execution_count": 19,
   "id": "c87503d6",
   "metadata": {},
   "outputs": [
    {
     "name": "stdout",
     "output_type": "stream",
     "text": [
      "Digite o valor desejado: 450\n",
      "O novo valor é 517.5\n"
     ]
    }
   ],
   "source": [
    "#12 - Faça um programa que peça um valor monetário e aumente-o em 15%. Seu programa deve imprimir a mensagem \"O novo valor é [valor]\"\n",
    "\n",
    "valor = int(input('Digite o valor desejado: '))\n",
    "\n",
    "valor15 = valor * 1.15\n",
    "\n",
    "print(f'O novo valor é {valor15}')"
   ]
  },
  {
   "cell_type": "code",
   "execution_count": 20,
   "id": "f11b698f",
   "metadata": {},
   "outputs": [
    {
     "name": "stdout",
     "output_type": "stream",
     "text": [
      "Digite o valor desejado: 400\n",
      "O novo valor é 340.0\n"
     ]
    }
   ],
   "source": [
    "#13 - Faça um programa que peça um valor monetário e diminua-o em 15%. Seu programa deve imprimir a mensagem \"O novo valor é [valor]\"\n",
    "\n",
    "valor = int(input('Digite o valor desejado: '))\n",
    "\n",
    "valor85 = valor * 0.85\n",
    "\n",
    "print(f'O novo valor é {valor85}')"
   ]
  },
  {
   "cell_type": "code",
   "execution_count": 9,
   "id": "3ad051e7",
   "metadata": {},
   "outputs": [
    {
     "name": "stdout",
     "output_type": "stream",
     "text": [
      "Digite a velocidade inicial (em m/s): 20\n",
      "Digite a posição inicial (em m): 0\n",
      "Digite o tempo (em s): 2\n",
      "A posição final do projétil é: 20.0m\n"
     ]
    }
   ],
   "source": [
    "#14 - Peça para o usuário digitar uma velocidade inicial (em m/s), uma posição inicial (em m) e um instante de tempo (em s) e imprima a posição de um projétil nesse instante de tempo\n",
    "\n",
    "v0y = int(input('Digite a velocidade inicial (em m/s): '))\n",
    "y0 = int(input('Digite a posição inicial (em m): '))\n",
    "t = int(input('Digite o tempo (em s): '))\n",
    "\n",
    "g = 10\n",
    "\n",
    "# Aplicando a fórmula do movimento uniformemente variado (MUV)\n",
    "\n",
    "y = y0 + (v0y*t) - (g*(t**2))/2\n",
    "\n",
    "print(f'A posição final do projétil é: {y}m')"
   ]
  },
  {
   "cell_type": "code",
   "execution_count": 9,
   "id": "b8342522",
   "metadata": {},
   "outputs": [
    {
     "name": "stdout",
     "output_type": "stream",
     "text": [
      "2022-08-21 01:44:57.844490+00:00\n",
      "2022-08-20 22:44:57.845488-03:00\n"
     ]
    }
   ],
   "source": [
    "#15 - Faça um programa que informe a data e a hora para o usuário. Para isos, use a função datetime.now() do módulo datetime\n",
    "\n",
    "from datetime import datetime, timezone\n",
    "# Data e Hora exibidas porém sem o tratamento do fuso horário.\n",
    "print(datetime.now(timezone.utc))\n",
    "\n",
    "# Aplicando o tratamento do fuso horário: \n",
    "\n",
    "import pytz\n",
    "# Importando o módulo (pós instalado) pytz pra manipular a timezone\n",
    "\n",
    "local_tz = pytz.timezone('America/Araguaina') # Aplicando a timezone de Araguaína\n",
    "print(datetime.now(local_tz))"
   ]
  },
  {
   "cell_type": "code",
   "execution_count": null,
   "id": "9264beb9",
   "metadata": {},
   "outputs": [],
   "source": []
  },
  {
   "cell_type": "code",
   "execution_count": null,
   "id": "58034f77",
   "metadata": {},
   "outputs": [],
   "source": []
  },
  {
   "cell_type": "code",
   "execution_count": null,
   "id": "b1f3139e",
   "metadata": {},
   "outputs": [],
   "source": [
    "    "
   ]
  },
  {
   "cell_type": "code",
   "execution_count": null,
   "id": "7a92df9d",
   "metadata": {},
   "outputs": [],
   "source": []
  }
 ],
 "metadata": {
  "kernelspec": {
   "display_name": "Python 3 (ipykernel)",
   "language": "python",
   "name": "python3"
  },
  "language_info": {
   "codemirror_mode": {
    "name": "ipython",
    "version": 3
   },
   "file_extension": ".py",
   "mimetype": "text/x-python",
   "name": "python",
   "nbconvert_exporter": "python",
   "pygments_lexer": "ipython3",
   "version": "3.10.5"
  }
 },
 "nbformat": 4,
 "nbformat_minor": 5
}
