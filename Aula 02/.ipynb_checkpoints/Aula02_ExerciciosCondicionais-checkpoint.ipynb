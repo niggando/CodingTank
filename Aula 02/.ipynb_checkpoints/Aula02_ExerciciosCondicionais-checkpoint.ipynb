{
 "cells": [
  {
   "cell_type": "code",
   "execution_count": 2,
   "id": "4fa42799",
   "metadata": {},
   "outputs": [
    {
     "name": "stdout",
     "output_type": "stream",
     "text": [
      "Digite sua idade: 18\n",
      "Você é maior de idade!\n"
     ]
    }
   ],
   "source": [
    "#1 - Faça um programa que peça a idade da pessoa e imprima se ela é maior ou menor de 18 anos.\n",
    "\n",
    "idade = int(input('Digite sua idade: '))\n",
    "\n",
    "if idade >= 18:\n",
    "    print('Você é maior de idade!')\n",
    "else: \n",
    "    print('Você é menor de idade!')"
   ]
  },
  {
   "cell_type": "code",
   "execution_count": 5,
   "id": "9ae21dc5",
   "metadata": {},
   "outputs": [
    {
     "name": "stdout",
     "output_type": "stream",
     "text": [
      "Digite um número: 1\n",
      "O número digitado é positivo.\n"
     ]
    }
   ],
   "source": [
    "#2 - Faça um programa que peça um número e mostre se é positivo ou negativo\n",
    "\n",
    "numero = int(input('Digite um número: '))\n",
    "\n",
    "if numero > 0:\n",
    "    print('O número digitado é positivo.')\n",
    "elif numero == 0:\n",
    "    print('O número digitado é neutro.')\n",
    "else:\n",
    "    print('O número é negativo')"
   ]
  },
  {
   "cell_type": "code",
   "execution_count": 10,
   "id": "a81ac759",
   "metadata": {},
   "outputs": [
    {
     "name": "stdout",
     "output_type": "stream",
     "text": [
      "Digite o primeiro número: 5\n",
      "Digite o segundo número: 3\n",
      "O primeiro número, 5, foi o maior digitado.\n"
     ]
    }
   ],
   "source": [
    "#3 - Faça um programa que peça dois números e exiba o maior deles.\n",
    "\n",
    "numero1 = int(input('Digite o primeiro número: '))\n",
    "numero2 = int(input('Digite o segundo número: '))\n",
    "\n",
    "if numero1 > numero2:\n",
    "    print(f'O primeiro número, {numero1}, foi o maior digitado.')\n",
    "elif numero1 < numero2:\n",
    "    print(f'O segundo número, {numero2}, foi o maior digitado.')\n",
    "else:\n",
    "    print('Os números são iguais!')"
   ]
  },
  {
   "cell_type": "code",
   "execution_count": 13,
   "id": "eff7e1b9",
   "metadata": {},
   "outputs": [
    {
     "name": "stdout",
     "output_type": "stream",
     "text": [
      "Digite a nota da prova 1: 6\n",
      "Digite a nota da prova 2: 5\n",
      "Digite a nota da prova 3: 6\n",
      "O aluno atingiu 5.666666666666667 de média e não passou de ano. :(\n"
     ]
    }
   ],
   "source": [
    "#4 - Escreva um programa que peça a nota de 3 provas de um aluno e mostre se ele passou de ano ou não.\n",
    "# A média >= 6 --> O aluno passa.\n",
    "\n",
    "prova1 = float(input('Digite a nota da prova 1: '))\n",
    "prova2 = float(input('Digite a nota da prova 2: '))\n",
    "prova3 = float(input('Digite a nota da prova 3: '))\n",
    "\n",
    "media = (prova1 + prova2 + prova3)/3\n",
    "\n",
    "if media >= 6:\n",
    "    print(f'O aluno atingiu {media} de média e passou de ano!')\n",
    "else: \n",
    "    print(f'O aluno atingiu {media} de média e não passou de ano. :(')"
   ]
  },
  {
   "cell_type": "code",
   "execution_count": 24,
   "id": "03837117",
   "metadata": {},
   "outputs": [
    {
     "name": "stdout",
     "output_type": "stream",
     "text": [
      "Quem foi o mestre Jedi de Anakin Skywalker (Darth Vader)?\n",
      "a) Padmé Amidala\n",
      "b) Luke Skywalker\n",
      "c) Han Solo\n",
      "d) Obi-Wan Kenobi\n",
      "e) Mestre Yoda\n",
      " \n",
      "Digite a letra correspondente à resposta: f\n",
      "A opção digitada não está disponível!\n"
     ]
    }
   ],
   "source": [
    "#5 - Faça um programa que mostre uma questão de múltipla escolha com 5 opções (letras a, b, c, d, e).\n",
    "# Sabendo a resposta certa, o programa deve receber a opção do usuário e informar a letra que o usuário marcou e se a resposta está certa ou errada.\n",
    "\n",
    "print('Quem foi o mestre Jedi de Anakin Skywalker (Darth Vader)?')\n",
    "print('a) Padmé Amidala')\n",
    "print('b) Luke Skywalker')\n",
    "print('c) Han Solo')\n",
    "print('d) Obi-Wan Kenobi')\n",
    "print('e) Mestre Yoda')\n",
    "\n",
    "print(' ')\n",
    "\n",
    "resposta = input('Digite a letra correspondente à resposta: ')\n",
    "\n",
    "if resposta == 'd':\n",
    "    print(f'A opção escolhida foi \"{resposta})\" e está correta!')\n",
    "elif resposta == 'a' or resposta == 'b' or resposta == 'c' or resposta == 'e': \n",
    "    print(f'A opção escolhida foi \"{resposta})\" e está errada. A correta era d) Obi-Wan Kennobi')\n",
    "else:\n",
    "    print(f'A opção digitada não está disponível!')"
   ]
  },
  {
   "cell_type": "code",
   "execution_count": 30,
   "id": "16304783",
   "metadata": {},
   "outputs": [
    {
     "name": "stdout",
     "output_type": "stream",
     "text": [
      "Responda as perguntas com sim ou não\n",
      "Você mora perto da vítima? sim\n",
      "Você já trabalhou com a vítima? sim\n",
      "Você telefonou para vítima? sim\n",
      "Você esteve no local do crime? não\n",
      "Você devia para a vítima? não\n",
      "Você é cúmplice e está preso!\n"
     ]
    }
   ],
   "source": [
    "#6 - Vamos fazer um programa para verificar quem é o assassino de um cirme. Para descobrir o assassino, a polícia faz um pequeno questionário com 5 perguntas onde a resposta só pode ser sim ou não:\n",
    "# a. Mora perto da vítima?\n",
    "# b. Já trabalhou com a vítima?\n",
    "# c. Telefonou para a vítima?\n",
    "# d. Esteve no local do crime?\n",
    "# e. Devia para a vítima?\n",
    "\n",
    "# Cada resposta sim dá um ponto para o suspeito. A polícia considera que os suspeitos com 5 pontos são assassinos. Com 4 a 3 pontos, são cumplices e 2 pontos são apenas suspeitos, necessitando de outras investigações.\n",
    "# Valores abaixo de 1 são liberados.\n",
    "print('Responda as perguntas com sim ou não')\n",
    "\n",
    "question1 = input('Você mora perto da vítima? ')\n",
    "question2 = input('Você já trabalhou com a vítima? ')\n",
    "question3 = input('Você telefonou para vítima? ')\n",
    "question4 = input('Você esteve no local do crime? ')\n",
    "question5 = input('Você devia para a vítima? ')\n",
    "\n",
    "pontos = 0\n",
    "\n",
    "if question1 == 'sim':\n",
    "    pontos = pontos + 1\n",
    "if question2 == 'sim':\n",
    "    pontos = pontos + 1\n",
    "if question3 == 'sim':\n",
    "    pontos = pontos + 1\n",
    "if question4 == 'sim':\n",
    "    pontos = pontos + 1\n",
    "if question5 == 'sim':\n",
    "    pontos = pontos + 1\n",
    "\n",
    "if pontos == 5:\n",
    "    print('Você é o assassino e está preso!')\n",
    "elif pontos == 4 or pontos == 3:\n",
    "    print('Você é cúmplice e está preso!')\n",
    "elif pontos == 2:\n",
    "    print('Você é apenas suspeito.')\n",
    "else: \n",
    "    print('Tu tá liberado')\n"
   ]
  },
  {
   "cell_type": "code",
   "execution_count": 61,
   "id": "f0ef9569",
   "metadata": {},
   "outputs": [
    {
     "name": "stdout",
     "output_type": "stream",
     "text": [
      "Digite um número inteiro entre 0 e 5 5\n",
      "Você acertou!\n"
     ]
    }
   ],
   "source": [
    "#7 - Faça um programa em que o usuário tem que adivinhar o número escolhido pelo computador. O computador deve sortear um número inteiro de 1 a 5 e pedir para o usuário tentar descobrir qual o número sorteado.\n",
    "# Após o usuário digitar sua resposta, o programa deve dizer se acertou ou não.\n",
    "import random\n",
    "\n",
    "numeroSorteado = random.randint(0,5)\n",
    "\n",
    "tentativa = int(input('Digite um número inteiro entre 0 e 5 '))\n",
    "\n",
    "if tentativa == numeroSorteado:\n",
    "    print('Você acertou!')\n",
    "elif tentativa < 0 or tentativa > 5:\n",
    "    print('Você não digitou um valor válido')\n",
    "elif tentativa != numeroSorteado:\n",
    "    print(f'Você errou :c, o número sorteado foi {numeroSorteado}')"
   ]
  },
  {
   "cell_type": "code",
   "execution_count": 64,
   "id": "69b2dd83",
   "metadata": {},
   "outputs": [
    {
     "name": "stdout",
     "output_type": "stream",
     "text": [
      "Digite a velocidade aferida: 51\n",
      "A velocidade está acima da permitida e o motorista será multado em 10 reais\n"
     ]
    }
   ],
   "source": [
    "#8 - Vamos fazer um radar eletrônico de velocidade. Faça um programa que leia a velocidade de um carro, e diga se está acima ou abaixo da velocidade permitida de 50km/h;\n",
    "# Se o carr oestiver acima da velocidade, o programa deve imprimir que o motorista passou a velocidade permitida e multa.\n",
    "# Para calcular o valor da multa, considere que para cada quilômetro acima da velocidade, é 10 conto.\n",
    "\n",
    "velocidadeAferida = int(input('Digite a velocidade aferida: '))\n",
    "\n",
    "if velocidadeAferida <= 50:\n",
    "    print('Está dentro da velocidade permitida.')\n",
    "else:\n",
    "    multa = (velocidadeAferida - 50) * 10\n",
    "    print(f'A velocidade está acima da permitida e o motorista será multado em {multa} reais')"
   ]
  },
  {
   "cell_type": "code",
   "execution_count": 67,
   "id": "ec0f951f",
   "metadata": {},
   "outputs": [
    {
     "name": "stdout",
     "output_type": "stream",
     "text": [
      "Você tem febre persistente? sim\n",
      "Você tem dificuldade para respirar?sim\n",
      "Procure um hospital!\n"
     ]
    }
   ],
   "source": [
    "#9 - Com a recomendação de que as pessoas fiquem em casa e evitem aglomerações como\n",
    "# medidas para frear a contaminação pelo coronavírus, como saber quando devemos procurar um hospital?\n",
    "# Faça um programa que pergunte os sintomas que a pessoa apresenta e responda se ela deve ir ou não\n",
    "# para o hospital. \n",
    "# Sintomas: a. Você tem febre persistente? b. Você tem dificuldade para respirar?\n",
    "\n",
    "# Tabela verdade!\n",
    "\n",
    "sintoma1 = input('Você tem febre persistente? ')\n",
    "sintoma2 = input('Você tem dificuldade para respirar?')\n",
    "# Apenas na situação onde os dois sintomas forem verdadeiros, a pessoa deve procurar o hospital!\n",
    "if sintoma1 == 'sim' and sintoma2 == 'sim':\n",
    "    print('Procure um hospital!')\n",
    "else: \n",
    "    print('Fique em casa!')"
   ]
  },
  {
   "cell_type": "code",
   "execution_count": null,
   "id": "a38a66bb",
   "metadata": {},
   "outputs": [],
   "source": []
  }
 ],
 "metadata": {
  "kernelspec": {
   "display_name": "Python 3 (ipykernel)",
   "language": "python",
   "name": "python3"
  },
  "language_info": {
   "codemirror_mode": {
    "name": "ipython",
    "version": 3
   },
   "file_extension": ".py",
   "mimetype": "text/x-python",
   "name": "python",
   "nbconvert_exporter": "python",
   "pygments_lexer": "ipython3",
   "version": "3.10.5"
  }
 },
 "nbformat": 4,
 "nbformat_minor": 5
}
