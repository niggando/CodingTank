{
 "cells": [
  {
   "cell_type": "code",
   "execution_count": null,
   "id": "ca5c7239",
   "metadata": {},
   "outputs": [],
   "source": [
    "#PROBLEMA EXTRA: Faça um programa que peça os 3 coeficientes (inteiros) de uma equação do segundo grau e imprima as duas soluções.\n",
    "# Obs: Só pode aparecer número inteiro na resposta final\n",
    "a = int(input('Digite o coeficiente A '))\n",
    "b = int(input('Digite o coeficiente B '))\n",
    "c = int(input('Digite o coeficiente C '))\n",
    "\n",
    "delta = b**2 - (4*a*c)\n",
    "x1 = (-b +delta ** 0.5) / (2 * a)\n",
    "x2 = (-b -delta ** 0.5) / (2 * a)\n",
    "\n",
    "# if delta ** 0.5 - int(delta**0.5) != 0 --> radicando = delta? Quem vai ser meu x1\n",
    "if x1 == int(x1):\n",
    "    aux = int(x1)\n",
    "    aux2 = int(x2)\n",
    "\n",
    "if delta > 0:\n",
    "    print(f'Há duas raizes, X1 {aux} e X2 {aux2}')\n",
    "elif delta == 0:\n",
    "    print(f'As duas raizes são iguais, sendo o valor {aux}')\n",
    "else: \n",
    "    print('Não existem raizes')\n"
   ]
  },
  {
   "cell_type": "code",
   "execution_count": null,
   "id": "e970576a",
   "metadata": {},
   "outputs": [],
   "source": []
  }
 ],
 "metadata": {
  "kernelspec": {
   "display_name": "Python 3 (ipykernel)",
   "language": "python",
   "name": "python3"
  },
  "language_info": {
   "codemirror_mode": {
    "name": "ipython",
    "version": 3
   },
   "file_extension": ".py",
   "mimetype": "text/x-python",
   "name": "python",
   "nbconvert_exporter": "python",
   "pygments_lexer": "ipython3",
   "version": "3.10.5"
  }
 },
 "nbformat": 4,
 "nbformat_minor": 5
}
