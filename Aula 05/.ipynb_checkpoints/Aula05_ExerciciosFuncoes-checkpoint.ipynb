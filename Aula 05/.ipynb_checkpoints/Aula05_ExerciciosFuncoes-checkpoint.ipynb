{
 "cells": [
  {
   "cell_type": "code",
   "execution_count": 1,
   "id": "b787a259",
   "metadata": {},
   "outputs": [],
   "source": [
    "#1 - Faça uma função que recebe um número e imprime seu dobro!\n",
    "\n",
    "def dobra_numero(numero):\n",
    "    numero *= 2\n",
    "    print(numero)\n",
    "\n",
    "dobra_numero(5)"
   ]
  },
  {
   "cell_type": "code",
   "execution_count": 5,
   "id": "fd5595eb",
   "metadata": {},
   "outputs": [
    {
     "name": "stdout",
     "output_type": "stream",
     "text": [
      "37.699079999999995\n"
     ]
    }
   ],
   "source": [
    "#2 - Faça uma função que recebe o valor do raio de um círculo e retorna o valor do comprimento de sua circunferência: C = 2*pi*r\n",
    "\n",
    "def comp_circulo(raio):\n",
    "    pi = 3.14159\n",
    "    comp = 2*pi*raio\n",
    "    return comp\n",
    "\n",
    "print(comp_circulo(6))"
   ]
  },
  {
   "cell_type": "code",
   "execution_count": 6,
   "id": "cc6cca4a",
   "metadata": {},
   "outputs": [
    {
     "name": "stdout",
     "output_type": "stream",
     "text": [
      "5\n",
      "-1\n",
      "6\n",
      "0.6666666666666666\n"
     ]
    }
   ],
   "source": [
    "#3 - Faça uma função para cada operação matemática (soma, subtração, multiplicação e divisão). As funções devem receber dois números e retornar o resultado da operação.\n",
    "\n",
    "def adicao(num1, num2):\n",
    "    soma = num1 + num2\n",
    "    return soma\n",
    "\n",
    "def subtracao(num1, num2):\n",
    "    sub = num1 - num2\n",
    "    return sub\n",
    "\n",
    "def multiplicacao(num1, num2):\n",
    "    multi = num1 * num2\n",
    "    return multi\n",
    "\n",
    "def divisao(num1, num2):\n",
    "    div = num1 / num2\n",
    "    return div\n",
    "\n",
    "print(adicao(2,3))\n",
    "print(subtracao(2,3))\n",
    "print(multiplicacao(2,3))\n",
    "print(divisao(2,3))\n",
    "\n"
   ]
  },
  {
   "cell_type": "code",
   "execution_count": 9,
   "id": "b1baef76",
   "metadata": {},
   "outputs": [
    {
     "name": "stdout",
     "output_type": "stream",
     "text": [
      "Digite um nome: Kaio\n",
      "Olá, Kaio\n"
     ]
    }
   ],
   "source": [
    "#4 - Faça uma função que recebe um nome e imprime \"Olá, [nome]\"\n",
    "\n",
    "def mostra_nome(nome):\n",
    "    print(f'Olá, {nome}')\n",
    "\n",
    "mostra_nome(input('Digite um nome: '))"
   ]
  },
  {
   "cell_type": "code",
   "execution_count": 12,
   "id": "bed49bd8",
   "metadata": {},
   "outputs": [
    {
     "name": "stdout",
     "output_type": "stream",
     "text": [
      "Digite seu nome: Kaio\n",
      "Digite o horário (em h):19\n",
      "Boa noite, Kaio\n"
     ]
    }
   ],
   "source": [
    "#5 - Faça uma função que recebe um nome e um horário e imprime “Bom dia, [nome]”, caso seja antes de 12h, “Boa Tarde, [nome]”, caso seja entre 12h e 18h e “Boa noite, [nome]” se for após às 18h.\n",
    "\n",
    "def cumprimenta(nome, horario):\n",
    "    if horario < 12:\n",
    "        print(f'Boa dia, {nome}')\n",
    "    \n",
    "    elif horario >= 12 and horario <= 18:\n",
    "        print(f'Boa tarde, {nome}')\n",
    "        \n",
    "    else: \n",
    "        print(f'Boa noite, {nome}')\n",
    "        \n",
    "\n",
    "nomePessoa = input('Digite seu nome: ')\n",
    "horarioHoras = int(input('Digite o horário (em h):'))\n",
    "\n",
    "cumprimenta(nomePessoa, horarioHoras)"
   ]
  },
  {
   "cell_type": "code",
   "execution_count": 13,
   "id": "2df4150f",
   "metadata": {},
   "outputs": [
    {
     "name": "stdout",
     "output_type": "stream",
     "text": [
      "Digite um número inteiro: 15\n"
     ]
    },
    {
     "data": {
      "text/plain": [
       "False"
      ]
     },
     "execution_count": 13,
     "metadata": {},
     "output_type": "execute_result"
    }
   ],
   "source": [
    "#6 - Faça uma função que recebe um número e retorna True se ele é par ou False, se ele é ímpar.\n",
    "\n",
    "def verifica_numero(numero):\n",
    "    if numero % 2 == 0:\n",
    "        return True\n",
    "    else: \n",
    "        return False\n",
    "    \n",
    "numero = int(input('Digite um número inteiro: '))\n",
    "\n",
    "verifica_numero(numero)\n"
   ]
  },
  {
   "cell_type": "code",
   "execution_count": 14,
   "id": "a2ed6a7a",
   "metadata": {},
   "outputs": [
    {
     "name": "stdout",
     "output_type": "stream",
     "text": [
      "[28, 66, 52, 50, 58, 45, 2, 60, 82, 99]\n"
     ]
    },
    {
     "data": {
      "text/plain": [
       "99"
      ]
     },
     "execution_count": 14,
     "metadata": {},
     "output_type": "execute_result"
    }
   ],
   "source": [
    "#7 - Faça uma função que sorteia 10 números aleatórios entre 0 e 100 e retorna o maior entre eles.\n",
    "import random\n",
    "def sorteia_numero():\n",
    "    sort_num = []\n",
    "    for i in range(0,10):\n",
    "        sort_num.append(random.randint(0,100))\n",
    "        \n",
    "    return max(sort_num)\n",
    "\n",
    "sorteia_numero()"
   ]
  },
  {
   "cell_type": "code",
   "execution_count": 18,
   "id": "19fbf7db",
   "metadata": {},
   "outputs": [
    {
     "name": "stdout",
     "output_type": "stream",
     "text": [
      "Digite um número: 3\n",
      "[16, 93, 24]\n"
     ]
    },
    {
     "data": {
      "text/plain": [
       "44.333333333333336"
      ]
     },
     "execution_count": 18,
     "metadata": {},
     "output_type": "execute_result"
    }
   ],
   "source": [
    "#8 - Faça uma função que recebe um número n de entrada, sorteia n números aleatórios entre 0 e 100 e retorna a média deles\n",
    "\n",
    "import random\n",
    "def sorteia_media(numero):\n",
    "    sort_n = []\n",
    "    for i in range(numero):\n",
    "        sort_n.append(random.randint(0,100))\n",
    "        \n",
    "    print(sort_n)\n",
    "    \n",
    "    return (sum(sort_n)/numero)\n",
    "\n",
    "sorteia_media(int(input('Digite um número: ')))"
   ]
  },
  {
   "cell_type": "code",
   "execution_count": 23,
   "id": "4815dbd3",
   "metadata": {},
   "outputs": [
    {
     "name": "stdout",
     "output_type": "stream",
     "text": [
      "Digite um conjunto de palavras: oxente\n",
      "['O', 'X', 'E', 'N', 'T', 'E']\n"
     ]
    }
   ],
   "source": [
    "#9 - Faça uma função que recebe uma lista de palavras e retorna uma lista contendo as mesmas palavras da lista naterior, porém escritas em caixa alta\n",
    "\n",
    "def caixa_alta(lista):\n",
    "    caixa_alta = []\n",
    "    for i in range(len(lista)):\n",
    "        caixa_alta.append(lista[i].upper())\n",
    "    \n",
    "    return caixa_alta\n",
    "\n",
    "listaQualquer = list(input('Digite um conjunto de palavras: '))\n",
    "\n",
    "print(f'{caixa_alta(listaQualquer)}')"
   ]
  },
  {
   "cell_type": "code",
   "execution_count": 25,
   "id": "57b94ed9",
   "metadata": {},
   "outputs": [
    {
     "data": {
      "text/plain": [
       "[4, 9, 4]"
      ]
     },
     "execution_count": 25,
     "metadata": {},
     "output_type": "execute_result"
    }
   ],
   "source": [
    "#10 - Faça uma função que recebe duas listas e retorna a soma item a item dessas listas\n",
    "\n",
    "def soma_listas(lista1, lista2):\n",
    "    lista_final = []\n",
    "    for i in range(len(lista1)):\n",
    "        lista_final.append(lista1[i] + lista2[i])\n",
    "        \n",
    "    return lista_final\n",
    "\n",
    "soma_listas([1,4,3], [3,5,1])"
   ]
  },
  {
   "cell_type": "code",
   "execution_count": 26,
   "id": "0c8771d1",
   "metadata": {},
   "outputs": [
    {
     "data": {
      "text/plain": [
       "[15, 25, 5]"
      ]
     },
     "execution_count": 26,
     "metadata": {},
     "output_type": "execute_result"
    }
   ],
   "source": [
    "#11 - Faça uma função que recebe um número x e uma lista númerica e retorna uma lista cujos elementos são itens da lista de entrada multiplicado por x\n",
    "\n",
    "def mult_lista(n, lista):\n",
    "    lista_final = []\n",
    "    for i in range(len(lista)):\n",
    "        lista_final.append(lista[i]*n)\n",
    "        \n",
    "    return lista_final\n",
    "\n",
    "mult_lista(5, [3,5,1])"
   ]
  },
  {
   "cell_type": "code",
   "execution_count": 27,
   "id": "b67af5a5",
   "metadata": {},
   "outputs": [
    {
     "data": {
      "text/plain": [
       "[3, 20, 3]"
      ]
     },
     "execution_count": 27,
     "metadata": {},
     "output_type": "execute_result"
    }
   ],
   "source": [
    "#12 - Faça uma função que receba duas listas e retorne o produto item a item dessas listas\n",
    "\n",
    "def produto_listas(lista1, lista2):\n",
    "    lista_final = []\n",
    "    for i in range(len(lista1)):\n",
    "        lista_final.append(lista1[i] * lista2[i])\n",
    "        \n",
    "    return lista_final\n",
    "\n",
    "produto_listas([1,4,3], [3,5,1])"
   ]
  },
  {
   "cell_type": "code",
   "execution_count": 31,
   "id": "5b862922",
   "metadata": {},
   "outputs": [
    {
     "name": "stdout",
     "output_type": "stream",
     "text": [
      "Digite um conjunto de números: 153\n",
      "A soma da lista de números é: 9\n"
     ]
    }
   ],
   "source": [
    "#13 - Faça uma função que recebe uma lista de números e retorna a soma dos elementos dessa lista\n",
    "\n",
    "def soma_listaN(lista):\n",
    "    somaLista = 0\n",
    "    for i in range(len(lista)):\n",
    "        somaLista += int(lista[i])\n",
    "        \n",
    "    return somaLista\n",
    "\n",
    "listaNumeros = list(input('Digite um conjunto de números: '))\n",
    "print(f'A soma da lista de números é: {soma_listaN(listaNumeros)}')"
   ]
  },
  {
   "cell_type": "code",
   "execution_count": 32,
   "id": "be3603bc",
   "metadata": {},
   "outputs": [
    {
     "name": "stdout",
     "output_type": "stream",
     "text": [
      "Digite um conjunto de números: 153\n",
      "A soma da lista de números é: 3.0\n"
     ]
    }
   ],
   "source": [
    "# 14 - Faça uma função que recebe uma lista de números e retorna a média aritimética dessa lista\n",
    "\n",
    "def media_listaN(lista):\n",
    "    somaLista = 0\n",
    "    for i in range(len(lista)):\n",
    "        somaLista += int(lista[i])\n",
    "        \n",
    "    return somaLista/len(lista)\n",
    "\n",
    "listaNumeros = list(input('Digite um conjunto de números: '))\n",
    "print(f'A soma da lista de números é: {media_listaN(listaNumeros)}')"
   ]
  },
  {
   "cell_type": "code",
   "execution_count": 40,
   "id": "8b381b81",
   "metadata": {},
   "outputs": [
    {
     "name": "stdout",
     "output_type": "stream",
     "text": [
      "Digite um número: 6\n",
      "O fatorial de 6 é 720\n"
     ]
    }
   ],
   "source": [
    "#15 - Faça uma função que receba um número e calcule seu fatorial\n",
    "\n",
    "def fatorial(n):\n",
    "    fatorial = 1\n",
    "    for i in range(1, n+1):\n",
    "        fatorial *= i \n",
    "    \n",
    "    print(f'O fatorial de {n} é {fatorial}')\n",
    "    \n",
    "fatorial(int(input('Digite um número: ')))"
   ]
  },
  {
   "cell_type": "code",
   "execution_count": 50,
   "id": "9d106b7c",
   "metadata": {},
   "outputs": [
    {
     "name": "stdout",
     "output_type": "stream",
     "text": [
      "Digite o termo desejado da sequencia: 5\n",
      "[1, 1, 2, 3, 5]\n",
      "O termo de número 5 na sequência de fibonacci é: 5\n"
     ]
    }
   ],
   "source": [
    "#16 - Desafio 3: Sequência de Fibonacci\n",
    "\n",
    "def fibonacci(n):\n",
    "    fibo = [1,1]\n",
    "    \n",
    "    for i in range(2,n):\n",
    "        fibo.append(fibo[i-2]+fibo[i-1])\n",
    "        \n",
    "#    print(fibo)\n",
    "    print(f'O termo de número {n} na sequência de fibonacci é: {fibo[n-1]}')\n",
    "\n",
    "fibonacci(int(input('Digite o termo desejado da sequencia: ')))"
   ]
  },
  {
   "cell_type": "code",
   "execution_count": null,
   "id": "b71b6f22",
   "metadata": {},
   "outputs": [],
   "source": [
    "#17 - SuperDesafio! Repita o desafio anterior utilizando uma recursão, ou seja, uma função que chame ela mesma\n",
    "\n"
   ]
  }
 ],
 "metadata": {
  "kernelspec": {
   "display_name": "Python 3 (ipykernel)",
   "language": "python",
   "name": "python3"
  },
  "language_info": {
   "codemirror_mode": {
    "name": "ipython",
    "version": 3
   },
   "file_extension": ".py",
   "mimetype": "text/x-python",
   "name": "python",
   "nbconvert_exporter": "python",
   "pygments_lexer": "ipython3",
   "version": "3.10.5"
  }
 },
 "nbformat": 4,
 "nbformat_minor": 5
}
