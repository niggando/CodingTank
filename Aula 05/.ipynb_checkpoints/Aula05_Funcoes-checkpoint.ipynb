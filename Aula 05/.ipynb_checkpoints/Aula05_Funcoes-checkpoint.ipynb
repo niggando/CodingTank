{
 "cells": [
  {
   "cell_type": "code",
   "execution_count": 3,
   "id": "63850596",
   "metadata": {},
   "outputs": [
    {
     "name": "stdout",
     "output_type": "stream",
     "text": [
      "19\n"
     ]
    }
   ],
   "source": [
    "# Convertendo de binário para decimal\n",
    "\n",
    "binario = '10011'\n",
    "tam = len(binario)\n",
    "soma = 0\n",
    "\n",
    "for i in range(tam):\n",
    "#    soma += int(binario[-(i+1)]) * 2 ** i # Da direita para a esquerda\n",
    "    soma += int(binario[i]) * 2 ** (tam - 1 - i) # Da esquerda para a direita\n",
    "    \n",
    "print(soma)"
   ]
  },
  {
   "cell_type": "code",
   "execution_count": 4,
   "id": "302b980c",
   "metadata": {},
   "outputs": [
    {
     "name": "stdout",
     "output_type": "stream",
     "text": [
      "103\n"
     ]
    }
   ],
   "source": [
    "binario = '1100111'\n",
    "tam = len(binario)\n",
    "soma = 0\n",
    "\n",
    "for i in range(tam):\n",
    "#    soma += int(binario[-(i+1)]) * 2 ** i # Da direita para a esquerda\n",
    "    soma += int(binario[i]) * 2 ** (tam - 1 - i) # Da esquerda para a direita\n",
    "    \n",
    "print(soma)"
   ]
  },
  {
   "cell_type": "code",
   "execution_count": 11,
   "id": "ad934aaf",
   "metadata": {},
   "outputs": [],
   "source": [
    "# Funções!\n",
    "# Responsável por executar um trecho de código\n",
    "\n",
    "def nome_da_funcao(parametros):\n",
    "    # Definição da função\n",
    "    pass"
   ]
  },
  {
   "cell_type": "code",
   "execution_count": 13,
   "id": "890acc50",
   "metadata": {},
   "outputs": [],
   "source": [
    "# Função que converte binário em decimal\n",
    "\n",
    "def binario_para_decimal(binario):\n",
    "    tam = len(binario)\n",
    "    soma = 0\n",
    "\n",
    "    for i in range(tam):\n",
    "        soma += int(binario[-(i+1)]) * 2 ** i\n",
    "    \n",
    "    print(soma)"
   ]
  },
  {
   "cell_type": "code",
   "execution_count": 17,
   "id": "b94672b3",
   "metadata": {},
   "outputs": [
    {
     "name": "stdout",
     "output_type": "stream",
     "text": [
      "19\n",
      "103\n",
      "1366\n"
     ]
    }
   ],
   "source": [
    "# Chamando a função:\n",
    "binario_para_decimal('10011')\n",
    "binario_para_decimal('1100111')\n",
    "\n",
    "cascudo = '10101010110'\n",
    "\n",
    "binario_para_decimal(cascudo)"
   ]
  },
  {
   "cell_type": "code",
   "execution_count": 27,
   "id": "cf121ecb",
   "metadata": {},
   "outputs": [],
   "source": [
    "def pi():\n",
    "    return 3.14159"
   ]
  },
  {
   "cell_type": "code",
   "execution_count": 28,
   "id": "173b6f1e",
   "metadata": {},
   "outputs": [
    {
     "data": {
      "text/plain": [
       "3.14159"
      ]
     },
     "execution_count": 28,
     "metadata": {},
     "output_type": "execute_result"
    }
   ],
   "source": [
    "pi()"
   ]
  },
  {
   "cell_type": "code",
   "execution_count": 33,
   "id": "1cf3d03c",
   "metadata": {},
   "outputs": [],
   "source": [
    "# Comprimento da circunferência: 2 * pi * R (Raio)\n",
    "\n",
    "def comprimento_da_circunferencia(R):\n",
    "    print(2 * pi() * R)"
   ]
  },
  {
   "cell_type": "code",
   "execution_count": 34,
   "id": "9fcb55d4",
   "metadata": {},
   "outputs": [
    {
     "name": "stdout",
     "output_type": "stream",
     "text": [
      "12.56636\n"
     ]
    }
   ],
   "source": [
    "comprimento_da_circunferencia(2)"
   ]
  },
  {
   "cell_type": "code",
   "execution_count": 36,
   "id": "76125a65",
   "metadata": {},
   "outputs": [],
   "source": [
    "# Calculando a area do retângulo\n",
    "\n",
    "def area_retangulo(base, altura):\n",
    "    return base*altura"
   ]
  },
  {
   "cell_type": "code",
   "execution_count": 37,
   "id": "33a22daf",
   "metadata": {},
   "outputs": [
    {
     "data": {
      "text/plain": [
       "30"
      ]
     },
     "execution_count": 37,
     "metadata": {},
     "output_type": "execute_result"
    }
   ],
   "source": [
    "area_retangulo(2,15)"
   ]
  },
  {
   "cell_type": "code",
   "execution_count": 40,
   "id": "903d40f3",
   "metadata": {},
   "outputs": [],
   "source": [
    "# Colocando lista como argumento\n",
    "\n",
    "def produto_escalar(vetor_u, vetor_v): #vetor_u e vetor_v são listas\n",
    "    soma = 0 \n",
    "    for i in range(len(vetor_u)):\n",
    "        soma += vetor_u[i] * vetor_v[i]\n",
    "        \n",
    "    return soma"
   ]
  },
  {
   "cell_type": "code",
   "execution_count": 41,
   "id": "2ae13af9",
   "metadata": {},
   "outputs": [
    {
     "data": {
      "text/plain": [
       "2"
      ]
     },
     "execution_count": 41,
     "metadata": {},
     "output_type": "execute_result"
    }
   ],
   "source": [
    "u = [1,2,1,1]\n",
    "v = [2,-1,1,1]\n",
    "\n",
    "produto_escalar(u, v)"
   ]
  },
  {
   "cell_type": "code",
   "execution_count": 47,
   "id": "36bef804",
   "metadata": {},
   "outputs": [],
   "source": [
    "# Função que recebe a taxa de aumento e o salário e retorna o novo salário\n",
    "def aumenta_salario1(taxa, salario):\n",
    "    return (1+taxa) * salario"
   ]
  },
  {
   "cell_type": "code",
   "execution_count": 48,
   "id": "e1f922ae",
   "metadata": {},
   "outputs": [
    {
     "name": "stdout",
     "output_type": "stream",
     "text": [
      "1393.8\n"
     ]
    }
   ],
   "source": [
    "# Argumentos Posicionais: posição/ordem é importante\n",
    "print(aumenta_salario1(0.15, 1212.00))"
   ]
  },
  {
   "cell_type": "code",
   "execution_count": 49,
   "id": "c7f5a2e4",
   "metadata": {},
   "outputs": [],
   "source": [
    "# (default: salario = 1212) --> Argumento Opcional\n",
    "def aumenta_salario2(taxa, salario = 1212.00):\n",
    "    return (1+taxa) * salario"
   ]
  },
  {
   "cell_type": "code",
   "execution_count": 50,
   "id": "981bd89e",
   "metadata": {},
   "outputs": [
    {
     "name": "stdout",
     "output_type": "stream",
     "text": [
      "1393.8\n"
     ]
    }
   ],
   "source": [
    "print(aumenta_salario2(0.15))"
   ]
  },
  {
   "cell_type": "code",
   "execution_count": 51,
   "id": "bdd18c33",
   "metadata": {},
   "outputs": [
    {
     "data": {
      "text/plain": [
       "2300.0"
      ]
     },
     "execution_count": 51,
     "metadata": {},
     "output_type": "execute_result"
    }
   ],
   "source": [
    "# Argumentos nominais: Ordem não é importante pq os nomes foram dados\n",
    "aumenta_salario2(taxa=0.15, salario = 2000)"
   ]
  },
  {
   "cell_type": "code",
   "execution_count": 52,
   "id": "bb832e96",
   "metadata": {},
   "outputs": [],
   "source": [
    "#Utilizando variáveis externas\n",
    "\n",
    "salary = 1212.00\n",
    "\n",
    "def utilizando_variaveis_externas():\n",
    "    return 2 * salary\n"
   ]
  },
  {
   "cell_type": "code",
   "execution_count": 53,
   "id": "09ee1ea5",
   "metadata": {},
   "outputs": [
    {
     "data": {
      "text/plain": [
       "2424.0"
      ]
     },
     "execution_count": 53,
     "metadata": {},
     "output_type": "execute_result"
    }
   ],
   "source": [
    "utilizando_variaveis_externas()"
   ]
  },
  {
   "cell_type": "code",
   "execution_count": 54,
   "id": "ead2f444",
   "metadata": {},
   "outputs": [],
   "source": [
    "# Tipos de retorno de uma função\n",
    "\n",
    "# Retornando mais de uma variável\n",
    "\n",
    "def funcao2grau(a, b, c):\n",
    "    return a, b, c"
   ]
  },
  {
   "cell_type": "code",
   "execution_count": 56,
   "id": "44334cc7",
   "metadata": {},
   "outputs": [
    {
     "data": {
      "text/plain": [
       "[1, 2, 3]"
      ]
     },
     "execution_count": 56,
     "metadata": {},
     "output_type": "execute_result"
    }
   ],
   "source": [
    "list(funcao2grau(1,2,3))"
   ]
  },
  {
   "cell_type": "code",
   "execution_count": 57,
   "id": "2a25db0e",
   "metadata": {},
   "outputs": [],
   "source": [
    "def lista_para_string(lista):\n",
    "    binario = ''\n",
    "    \n",
    "    for bit in lista:\n",
    "        binario += str(bit)\n",
    "        \n",
    "    return binario"
   ]
  },
  {
   "cell_type": "code",
   "execution_count": 58,
   "id": "bd8a3e2a",
   "metadata": {},
   "outputs": [
    {
     "data": {
      "text/plain": [
       "'10011'"
      ]
     },
     "execution_count": 58,
     "metadata": {},
     "output_type": "execute_result"
    }
   ],
   "source": [
    "lista_para_string([1,0,0,1,1])"
   ]
  },
  {
   "cell_type": "code",
   "execution_count": 59,
   "id": "a4c42dc4",
   "metadata": {},
   "outputs": [
    {
     "name": "stdout",
     "output_type": "stream",
     "text": [
      "Digite um sobrenome pra mim: dos Santos\n",
      "Kaio dos Santos\n"
     ]
    }
   ],
   "source": [
    "def nome_completo(nome):\n",
    "    sobrenome = input('Digite um sobrenome pra mim: ')\n",
    "    \n",
    "    print(nome+' '+sobrenome)\n",
    "\n",
    "nome_completo('Kaio')"
   ]
  },
  {
   "cell_type": "code",
   "execution_count": 60,
   "id": "0d72429f",
   "metadata": {},
   "outputs": [],
   "source": [
    "matriz = [[1,2],[3,1]]"
   ]
  },
  {
   "cell_type": "code",
   "execution_count": 61,
   "id": "2d471d3b",
   "metadata": {},
   "outputs": [
    {
     "data": {
      "text/plain": [
       "list"
      ]
     },
     "execution_count": 61,
     "metadata": {},
     "output_type": "execute_result"
    }
   ],
   "source": [
    "type(matriz)"
   ]
  },
  {
   "cell_type": "code",
   "execution_count": 64,
   "id": "8f6e3949",
   "metadata": {},
   "outputs": [
    {
     "data": {
      "text/plain": [
       "1"
      ]
     },
     "execution_count": 64,
     "metadata": {},
     "output_type": "execute_result"
    }
   ],
   "source": [
    "matriz[0][0]"
   ]
  },
  {
   "cell_type": "code",
   "execution_count": 66,
   "id": "d092964d",
   "metadata": {},
   "outputs": [
    {
     "name": "stdout",
     "output_type": "stream",
     "text": [
      "1 2 \n",
      "3 1 \n"
     ]
    }
   ],
   "source": [
    "for i in range(2):\n",
    "    for j in range(2):\n",
    "        print(f'{matriz[i][j]}', end = ' ')\n",
    "    print()"
   ]
  },
  {
   "cell_type": "code",
   "execution_count": null,
   "id": "85d87012",
   "metadata": {},
   "outputs": [],
   "source": []
  }
 ],
 "metadata": {
  "kernelspec": {
   "display_name": "Python 3 (ipykernel)",
   "language": "python",
   "name": "python3"
  },
  "language_info": {
   "codemirror_mode": {
    "name": "ipython",
    "version": 3
   },
   "file_extension": ".py",
   "mimetype": "text/x-python",
   "name": "python",
   "nbconvert_exporter": "python",
   "pygments_lexer": "ipython3",
   "version": "3.10.5"
  }
 },
 "nbformat": 4,
 "nbformat_minor": 5
}
