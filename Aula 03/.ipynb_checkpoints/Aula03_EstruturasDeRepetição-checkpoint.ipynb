{
 "cells": [
  {
   "cell_type": "code",
   "execution_count": 6,
   "id": "9c09f0c8",
   "metadata": {},
   "outputs": [
    {
     "name": "stdout",
     "output_type": "stream",
     "text": [
      "Digite o coeficiente A: 0\n",
      "Digite o coeficiente B: 2\n",
      "Digite o coeficiente C: 3\n",
      "O Valor precisa ser diferente de 0, logo digite o coeficiente A: 0\n",
      "O Valor precisa ser diferente de 0, logo digite o coeficiente A: 0\n",
      "O Valor precisa ser diferente de 0, logo digite o coeficiente A: 2\n"
     ]
    }
   ],
   "source": [
    "A = int(input('Digite o coeficiente A: '))\n",
    "B = int(input('Digite o coeficiente B: '))\n",
    "C = int(input('Digite o coeficiente C: '))\n",
    "\n",
    "while A == 0:\n",
    "    A = int(input('O A não pode ser zero, logo digite o coeficiente A: '))"
   ]
  },
  {
   "cell_type": "code",
   "execution_count": 7,
   "id": "80c9fad7",
   "metadata": {},
   "outputs": [
    {
     "data": {
      "text/plain": [
       "(2, 2, 3)"
      ]
     },
     "execution_count": 7,
     "metadata": {},
     "output_type": "execute_result"
    }
   ],
   "source": [
    "# Estruturas de Repetição\n",
    "# while --> enquanto\n",
    "# while boolean:"
   ]
  },
  {
   "cell_type": "code",
   "execution_count": 10,
   "id": "d47d9f92",
   "metadata": {},
   "outputs": [
    {
     "name": "stdout",
     "output_type": "stream",
     "text": [
      "1\n",
      "2\n",
      "3\n",
      "4\n",
      "5\n",
      "6\n",
      "7\n",
      "8\n",
      "9\n",
      "10\n"
     ]
    }
   ],
   "source": [
    "## Acumulador\n",
    "soma = 0\n",
    "\n",
    "while soma < 10:\n",
    "    soma += 1\n",
    "    print(soma)"
   ]
  },
  {
   "cell_type": "code",
   "execution_count": 14,
   "id": "30fbd967",
   "metadata": {},
   "outputs": [
    {
     "name": "stdout",
     "output_type": "stream",
     "text": [
      "Digite o número da tabuada5\n",
      "5 x 0 = 0\n",
      "5 x 1 = 5\n",
      "5 x 2 = 10\n",
      "5 x 3 = 15\n",
      "5 x 4 = 20\n",
      "5 x 5 = 25\n",
      "5 x 6 = 30\n",
      "5 x 7 = 35\n",
      "5 x 8 = 40\n",
      "5 x 9 = 45\n",
      "5 x 10 = 50\n"
     ]
    }
   ],
   "source": [
    "# Tabuada de cria\n",
    "n = int(input('Digite o número da tabuada: '))\n",
    "count = 0\n",
    "while count <=10:\n",
    "    print(f'{n} x {count} = {n*count}')\n",
    "    count += 1"
   ]
  },
  {
   "cell_type": "code",
   "execution_count": null,
   "id": "0c0042ac",
   "metadata": {},
   "outputs": [],
   "source": []
  }
 ],
 "metadata": {
  "kernelspec": {
   "display_name": "Python 3 (ipykernel)",
   "language": "python",
   "name": "python3"
  },
  "language_info": {
   "codemirror_mode": {
    "name": "ipython",
    "version": 3
   },
   "file_extension": ".py",
   "mimetype": "text/x-python",
   "name": "python",
   "nbconvert_exporter": "python",
   "pygments_lexer": "ipython3",
   "version": "3.10.5"
  }
 },
 "nbformat": 4,
 "nbformat_minor": 5
}
