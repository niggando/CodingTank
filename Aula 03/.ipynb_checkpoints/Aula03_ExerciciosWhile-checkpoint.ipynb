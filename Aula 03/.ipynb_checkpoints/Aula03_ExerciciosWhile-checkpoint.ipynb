{
 "cells": [
  {
   "cell_type": "code",
   "execution_count": 22,
   "id": "517f8526",
   "metadata": {},
   "outputs": [
    {
     "name": "stdout",
     "output_type": "stream",
     "text": [
      "Digite um numero :2\n",
      "1\n",
      "2\n"
     ]
    }
   ],
   "source": [
    "#1 - Faça um programa que peça ao usuário um número e imprima todos os números de um até o número dado. \n",
    "\n",
    "num = int(input('Digite um numero: '))\n",
    "aux = 1\n",
    "while aux <= num:\n",
    "    print(aux)\n",
    "    aux += 1"
   ]
  },
  {
   "cell_type": "code",
   "execution_count": 53,
   "id": "9ca74755",
   "metadata": {},
   "outputs": [
    {
     "name": "stdout",
     "output_type": "stream",
     "text": [
      "Digite um número: 7\n",
      "5040\n",
      "Fim do Loop\n"
     ]
    }
   ],
   "source": [
    "#2 - Peça ao usuário para digitar um número e imprima o fatorial de n.\n",
    "\n",
    "n = int(input('Digite um número: '))\n",
    "aux = n\n",
    "\n",
    "while aux > 1:\n",
    "    n *= (aux-1)\n",
    "    aux -= 1\n",
    "\n",
    "print(n)\n",
    "\n",
    "print('Fim do Loop')"
   ]
  },
  {
   "cell_type": "code",
   "execution_count": 54,
   "id": "c7b697ee",
   "metadata": {},
   "outputs": [
    {
     "name": "stdout",
     "output_type": "stream",
     "text": [
      "Digite um número: 5\n",
      "15\n",
      "Fim do Loop\n"
     ]
    }
   ],
   "source": [
    "#3 - Peça ao usuário para digitar um número N e some todos os números de 1 a N utilizando laço de repetição while.\n",
    "\n",
    "n = int(input('Digite um número: '))\n",
    "aux = n\n",
    "\n",
    "while aux > 1:\n",
    "    n += (aux-1)\n",
    "    aux -= 1\n",
    "\n",
    "print(n)\n",
    "\n",
    "print('Fim do Loop')"
   ]
  },
  {
   "cell_type": "code",
   "execution_count": 55,
   "id": "af3c98f5",
   "metadata": {},
   "outputs": [
    {
     "name": "stdout",
     "output_type": "stream",
     "text": [
      "Digite o número da Tabuada: 9\n",
      "9 x 0 = 0\n",
      "9 x 1 = 9\n",
      "9 x 2 = 18\n",
      "9 x 3 = 27\n",
      "9 x 4 = 36\n",
      "9 x 5 = 45\n",
      "9 x 6 = 54\n",
      "9 x 7 = 63\n",
      "9 x 8 = 72\n",
      "9 x 9 = 81\n",
      "9 x 10 = 90\n",
      "Fim do Loop\n"
     ]
    }
   ],
   "source": [
    "#4 - Faça um programa que imprima a tabuada do 9 usando loops\n",
    "\n",
    "n = int(input('Digite o número da Tabuada: '))\n",
    "count = 0 \n",
    "# Tabuada --> (1 > 10) * 9 = (resultado)\n",
    "\n",
    "while count <= 10:\n",
    "    resposta = n * count\n",
    "    print(f'{n} x {count} = {resposta}')\n",
    "    count += 1\n",
    "    \n",
    "print('Fim do Loop')"
   ]
  },
  {
   "cell_type": "code",
   "execution_count": 8,
   "id": "c444865a",
   "metadata": {},
   "outputs": [
    {
     "name": "stdout",
     "output_type": "stream",
     "text": [
      "Digite um número: 5\n",
      "Digite um número: 3\n",
      "Digite um número: 4\n",
      "Digite um número: 0\n",
      "[5, 3, 4]\n",
      "5 3 4 \n"
     ]
    }
   ],
   "source": [
    "#5 - Faça um programa, usando loops, que peça para um usuário digitar um número e que só finaliza quando digitar 0. Ao final imprima todos os números digitados.\n",
    "\n",
    "n = int(input('Digite um número: '))\n",
    "# Utilizando uma lista pra armazenar os dados!\n",
    "lista = []\n",
    "# Utilizando uma String Concatenada pra armazenar os dados!\n",
    "listaStr = ''\n",
    "\n",
    "while n != 0:\n",
    "    lista.append(n)\n",
    "    # concatenando um espaço\n",
    "    listaStr += str(n) + ' '\n",
    "    n = int(input('Digite um número: '))\n",
    "\n",
    "# Printando a saída da lista\n",
    "print(lista)\n",
    "# Printando a saída em string\n",
    "print(listaStr)\n",
    "    "
   ]
  },
  {
   "cell_type": "code",
   "execution_count": 19,
   "id": "22420081",
   "metadata": {},
   "outputs": [
    {
     "name": "stdout",
     "output_type": "stream",
     "text": [
      "Digite um número: 1\n",
      "Você errou. Digite outro número de 1 a 10: 5\n",
      "Você errou. Digite outro número de 1 a 10: 6\n",
      "Você errou. Digite outro número de 1 a 10: 2\n",
      "Você errou. Digite outro número de 1 a 10: 3\n",
      "Você errou. Digite outro número de 1 a 10: 7\n",
      "Você errou. Digite outro número de 1 a 10: 8\n",
      "Você errou. Digite outro número de 1 a 10: 9\n",
      "Você acertou! O número sorteado foi 9\n"
     ]
    }
   ],
   "source": [
    "#6 - Faça um programa que sorteia um número N e peça para o usuário adivinhar o número sorteado. A cada resposta errada, o seu programa deve imprimir uma viso dizendo que a resposta está errada e pedir novamente uma resposta ao usuário.\n",
    "\n",
    "import random\n",
    "\n",
    "numeroSorteado = random.randint(1, 10)\n",
    "# Verificação no log só pra responder corretamente\n",
    "\n",
    "numeroChutado = int(input('Digite um número: '))\n",
    "\n",
    "while numeroChutado != numeroSorteado:\n",
    "    numeroChutado = int(input('Você errou. Digite outro número de 1 a 10: '))\n",
    "    \n",
    "print(f'Você acertou! O número sorteado foi {numeroSorteado}')"
   ]
  },
  {
   "cell_type": "code",
   "execution_count": 30,
   "id": "71262c2b",
   "metadata": {},
   "outputs": [
    {
     "name": "stdout",
     "output_type": "stream",
     "text": [
      "Digite a idade: 15\n",
      "Digite o salario: (Valor inteiro) 15\n",
      "Digite o Sexo: (M, F ou Outro) eihaueha\n",
      "Digite o Sexo: (M, F ou Outro) Outro\n",
      "A idade digitada foi: 15\n",
      "O salário digitado foi: 15\n",
      "O sexo digitado foi: Outro\n"
     ]
    }
   ],
   "source": [
    "#7 - Faça um programa que peça para o usuário digitar a idade, salário e o sexo de uma pessoa até que as entradas digitadas sejam válidas.\n",
    "\n",
    "idade = int(input('Digite a idade: '))\n",
    "salario = int(input('Digite o salario: (Valor inteiro) '))\n",
    "sexo = input('Digite o Sexo: (M, F ou Outro) ')\n",
    "\n",
    "while idade < 0 or idade > 150:\n",
    "    idade = int(input('Digite a idade: '))\n",
    "\n",
    "while salario < 0:\n",
    "    salario = int(input('Digite o salario: (Valor inteiro) '))\n",
    "\n",
    "while sexo != 'M' and sexo !='F' and sexo != 'Outro':\n",
    "    sexo = input('Digite o Sexo: (M, F ou Outro) ')\n",
    "    \n",
    "print(f'A idade digitada foi: {idade}')\n",
    "print(f'O salário digitado foi: {salario}')\n",
    "print(f'O sexo digitado foi: {sexo}')\n",
    "        "
   ]
  },
  {
   "cell_type": "code",
   "execution_count": 2,
   "id": "9a052320",
   "metadata": {},
   "outputs": [
    {
     "name": "stdout",
     "output_type": "stream",
     "text": [
      "A soma dos termos é: 2.0\n"
     ]
    }
   ],
   "source": [
    "#8 - Desafio!\n",
    "# Calculo a soma até mil termos da série 1 + 1/2 + 1/4 + 1/8 + 1/16\n",
    "# Dica: Use três variáveis.\n",
    "\n",
    "count = 0\n",
    "contTermos = 0\n",
    "contDividendo = 1\n",
    "\n",
    "while count < 1000:\n",
    "    contTermos += contDividendo\n",
    "    contDividendo = contDividendo/2\n",
    "    count += 1\n",
    "\n",
    "print(f'A soma dos termos é: {contTermos}')"
   ]
  },
  {
   "cell_type": "code",
   "execution_count": 44,
   "id": "8f750189",
   "metadata": {},
   "outputs": [
    {
     "name": "stdout",
     "output_type": "stream",
     "text": [
      "A soma dos termos é: 1.7182818284590455\n"
     ]
    }
   ],
   "source": [
    "#9 Super Desafio! - Calcule a soma de miltermos dos inversos dos fatoriais: 1/(1!) + 1/(2!) + 1/(3!) + ...\n",
    "\n",
    "# dica: Assim como no exercício anterior, utilize três variáveis!\n",
    "\n",
    "# Contador iniciando em 2 para evitar divisão por 0\n",
    "count = 2\n",
    "soma = 0\n",
    "fatorial = 1\n",
    "\n",
    "while count <= 1002:\n",
    "    # Primeiro valor da fatorial não pode ser 1 ou menor que 1 senão cai numa divisão por 0;\n",
    "    fatorial *= (count-1)\n",
    "    soma += (1/fatorial)\n",
    "    count += 1\n",
    "\n",
    "print(f'A soma dos termos é: {soma}')"
   ]
  },
  {
   "cell_type": "code",
   "execution_count": null,
   "id": "66e3275e",
   "metadata": {},
   "outputs": [],
   "source": []
  },
  {
   "cell_type": "code",
   "execution_count": null,
   "id": "b002d204",
   "metadata": {},
   "outputs": [],
   "source": []
  }
 ],
 "metadata": {
  "kernelspec": {
   "display_name": "Python 3 (ipykernel)",
   "language": "python",
   "name": "python3"
  },
  "language_info": {
   "codemirror_mode": {
    "name": "ipython",
    "version": 3
   },
   "file_extension": ".py",
   "mimetype": "text/x-python",
   "name": "python",
   "nbconvert_exporter": "python",
   "pygments_lexer": "ipython3",
   "version": "3.10.5"
  }
 },
 "nbformat": 4,
 "nbformat_minor": 5
}
