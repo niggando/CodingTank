{
 "cells": [
  {
   "cell_type": "code",
   "execution_count": 22,
   "id": "517f8526",
   "metadata": {},
   "outputs": [
    {
     "name": "stdout",
     "output_type": "stream",
     "text": [
      "Digite um numero :2\n",
      "1\n",
      "2\n"
     ]
    }
   ],
   "source": [
    "#1 - Faça um programa que peça ao usuário um número e imprima todos os números de um até o número dado. \n",
    "\n",
    "num = int(input('Digite um numero: '))\n",
    "aux = 1\n",
    "while aux <= num:\n",
    "    print(aux)\n",
    "    aux += 1"
   ]
  },
  {
   "cell_type": "code",
   "execution_count": 53,
   "id": "9ca74755",
   "metadata": {},
   "outputs": [
    {
     "name": "stdout",
     "output_type": "stream",
     "text": [
      "Digite um número: 7\n",
      "5040\n",
      "Fim do Loop\n"
     ]
    }
   ],
   "source": [
    "#2 - Peça ao usuário para digitar um número e imprima o fatorial de n.\n",
    "\n",
    "n = int(input('Digite um número: '))\n",
    "aux = n\n",
    "\n",
    "while aux > 1:\n",
    "    n *= (aux-1)\n",
    "    aux -= 1\n",
    "\n",
    "print(n)\n",
    "\n",
    "print('Fim do Loop')"
   ]
  },
  {
   "cell_type": "code",
   "execution_count": 54,
   "id": "c7b697ee",
   "metadata": {},
   "outputs": [
    {
     "name": "stdout",
     "output_type": "stream",
     "text": [
      "Digite um número: 5\n",
      "15\n",
      "Fim do Loop\n"
     ]
    }
   ],
   "source": [
    "#3 - Peça ao usuário para digitar um número N e some todos os números de 1 a N utilizando laço de repetição while.\n",
    "\n",
    "n = int(input('Digite um número: '))\n",
    "aux = n\n",
    "\n",
    "while aux > 1:\n",
    "    n += (aux-1)\n",
    "    aux -= 1\n",
    "\n",
    "print(n)\n",
    "\n",
    "print('Fim do Loop')"
   ]
  },
  {
   "cell_type": "code",
   "execution_count": 55,
   "id": "af3c98f5",
   "metadata": {},
   "outputs": [
    {
     "name": "stdout",
     "output_type": "stream",
     "text": [
      "Digite o número da Tabuada: 9\n",
      "9 x 0 = 0\n",
      "9 x 1 = 9\n",
      "9 x 2 = 18\n",
      "9 x 3 = 27\n",
      "9 x 4 = 36\n",
      "9 x 5 = 45\n",
      "9 x 6 = 54\n",
      "9 x 7 = 63\n",
      "9 x 8 = 72\n",
      "9 x 9 = 81\n",
      "9 x 10 = 90\n",
      "Fim do Loop\n"
     ]
    }
   ],
   "source": [
    "#4 - Faça um programa que imprima a tabuada do 9 usando loops\n",
    "\n",
    "n = int(input('Digite o número da Tabuada: '))\n",
    "count = 0 \n",
    "# Tabuada --> (1 > 10) * 9 = (resultado)\n",
    "\n",
    "while count <= 10:\n",
    "    resposta = n * count\n",
    "    print(f'{n} x {count} = {resposta}')\n",
    "    count += 1\n",
    "    \n",
    "print('Fim do Loop')"
   ]
  },
  {
   "cell_type": "code",
   "execution_count": 8,
   "id": "c444865a",
   "metadata": {},
   "outputs": [
    {
     "name": "stdout",
     "output_type": "stream",
     "text": [
      "Digite um número: 5\n",
      "Digite um número: 3\n",
      "Digite um número: 4\n",
      "Digite um número: 0\n",
      "[5, 3, 4]\n",
      "5 3 4 \n"
     ]
    }
   ],
   "source": [
    "#5 - Faça um programa, usando loops, que peça para um usuário digitar um número e que só finaliza quando digitar 0. Ao final imprima todos os números digitados.\n",
    "\n",
    "n = int(input('Digite um número: '))\n",
    "# Utilizando uma lista pra armazenar os dados!\n",
    "lista = []\n",
    "# Utilizando uma String Concatenada pra armazenar os dados!\n",
    "listaStr = ''\n",
    "\n",
    "while n != 0:\n",
    "    lista.append(n)\n",
    "    # concatenando um espaço\n",
    "    listaStr += str(n) + ' '\n",
    "    n = int(input('Digite um número: '))\n",
    "\n",
    "# Printando a saída da lista\n",
    "print(lista)\n",
    "# Printando a saída em string\n",
    "print(listaStr)\n",
    "    "
   ]
  },
  {
   "cell_type": "code",
   "execution_count": 19,
   "id": "22420081",
   "metadata": {},
   "outputs": [
    {
     "name": "stdout",
     "output_type": "stream",
     "text": [
      "Digite um número: 1\n",
      "Você errou. Digite outro número de 1 a 10: 5\n",
      "Você errou. Digite outro número de 1 a 10: 6\n",
      "Você errou. Digite outro número de 1 a 10: 2\n",
      "Você errou. Digite outro número de 1 a 10: 3\n",
      "Você errou. Digite outro número de 1 a 10: 7\n",
      "Você errou. Digite outro número de 1 a 10: 8\n",
      "Você errou. Digite outro número de 1 a 10: 9\n",
      "Você acertou! O número sorteado foi 9\n"
     ]
    }
   ],
   "source": [
    "#6 - Faça um programa que sorteia um número N e peça para o usuário adivinhar o número sorteado. A cada resposta errada, o seu programa deve imprimir uma viso dizendo que a resposta está errada e pedir novamente uma resposta ao usuário.\n",
    "\n",
    "import random\n",
    "\n",
    "numeroSorteado = random.randint(1, 10)\n",
    "# Verificação no log só pra responder corretamente\n",
    "\n",
    "numeroChutado = int(input('Digite um número: '))\n",
    "\n",
    "while numeroChutado != numeroSorteado:\n",
    "    numeroChutado = int(input('Você errou. Digite outro número de 1 a 10: '))\n",
    "    \n",
    "print(f'Você acertou! O número sorteado foi {numeroSorteado}')"
   ]
  },
  {
   "cell_type": "code",
   "execution_count": 23,
   "id": "71262c2b",
   "metadata": {},
   "outputs": [
    {
     "ename": "KeyboardInterrupt",
     "evalue": "Interrupted by user",
     "output_type": "error",
     "traceback": [
      "\u001b[1;31m---------------------------------------------------------------------------\u001b[0m",
      "\u001b[1;31mKeyboardInterrupt\u001b[0m                         Traceback (most recent call last)",
      "Input \u001b[1;32mIn [23]\u001b[0m, in \u001b[0;36m<cell line: 3>\u001b[1;34m()\u001b[0m\n\u001b[0;32m      1\u001b[0m \u001b[38;5;66;03m#7 - Faça um programa que peça para o usuário digitar a idade, salário e o sexo de uma pessoa até que as entradas digitadas sejam válidas.\u001b[39;00m\n\u001b[1;32m----> 3\u001b[0m idade \u001b[38;5;241m=\u001b[39m \u001b[38;5;28mint\u001b[39m(\u001b[38;5;28;43minput\u001b[39;49m\u001b[43m(\u001b[49m\u001b[38;5;124;43m'\u001b[39;49m\u001b[38;5;124;43mDigite a idade: \u001b[39;49m\u001b[38;5;124;43m'\u001b[39;49m\u001b[43m)\u001b[49m)\n\u001b[0;32m      4\u001b[0m salario \u001b[38;5;241m=\u001b[39m \u001b[38;5;28mint\u001b[39m(\u001b[38;5;28minput\u001b[39m(\u001b[38;5;124m'\u001b[39m\u001b[38;5;124mDigite o salario: (Valor inteiro) \u001b[39m\u001b[38;5;124m'\u001b[39m))\n\u001b[0;32m      5\u001b[0m sexo \u001b[38;5;241m=\u001b[39m \u001b[38;5;28minput\u001b[39m(\u001b[38;5;124m'\u001b[39m\u001b[38;5;124mDigite o Sexo: (M, F ou Outro) \u001b[39m\u001b[38;5;124m'\u001b[39m)\n",
      "File \u001b[1;32m~\\AppData\\Local\\Programs\\Python\\Python310\\lib\\site-packages\\ipykernel\\kernelbase.py:1177\u001b[0m, in \u001b[0;36mKernel.raw_input\u001b[1;34m(self, prompt)\u001b[0m\n\u001b[0;32m   1173\u001b[0m \u001b[38;5;28;01mif\u001b[39;00m \u001b[38;5;129;01mnot\u001b[39;00m \u001b[38;5;28mself\u001b[39m\u001b[38;5;241m.\u001b[39m_allow_stdin:\n\u001b[0;32m   1174\u001b[0m     \u001b[38;5;28;01mraise\u001b[39;00m StdinNotImplementedError(\n\u001b[0;32m   1175\u001b[0m         \u001b[38;5;124m\"\u001b[39m\u001b[38;5;124mraw_input was called, but this frontend does not support input requests.\u001b[39m\u001b[38;5;124m\"\u001b[39m\n\u001b[0;32m   1176\u001b[0m     )\n\u001b[1;32m-> 1177\u001b[0m \u001b[38;5;28;01mreturn\u001b[39;00m \u001b[38;5;28;43mself\u001b[39;49m\u001b[38;5;241;43m.\u001b[39;49m\u001b[43m_input_request\u001b[49m\u001b[43m(\u001b[49m\n\u001b[0;32m   1178\u001b[0m \u001b[43m    \u001b[49m\u001b[38;5;28;43mstr\u001b[39;49m\u001b[43m(\u001b[49m\u001b[43mprompt\u001b[49m\u001b[43m)\u001b[49m\u001b[43m,\u001b[49m\n\u001b[0;32m   1179\u001b[0m \u001b[43m    \u001b[49m\u001b[38;5;28;43mself\u001b[39;49m\u001b[38;5;241;43m.\u001b[39;49m\u001b[43m_parent_ident\u001b[49m\u001b[43m[\u001b[49m\u001b[38;5;124;43m\"\u001b[39;49m\u001b[38;5;124;43mshell\u001b[39;49m\u001b[38;5;124;43m\"\u001b[39;49m\u001b[43m]\u001b[49m\u001b[43m,\u001b[49m\n\u001b[0;32m   1180\u001b[0m \u001b[43m    \u001b[49m\u001b[38;5;28;43mself\u001b[39;49m\u001b[38;5;241;43m.\u001b[39;49m\u001b[43mget_parent\u001b[49m\u001b[43m(\u001b[49m\u001b[38;5;124;43m\"\u001b[39;49m\u001b[38;5;124;43mshell\u001b[39;49m\u001b[38;5;124;43m\"\u001b[39;49m\u001b[43m)\u001b[49m\u001b[43m,\u001b[49m\n\u001b[0;32m   1181\u001b[0m \u001b[43m    \u001b[49m\u001b[43mpassword\u001b[49m\u001b[38;5;241;43m=\u001b[39;49m\u001b[38;5;28;43;01mFalse\u001b[39;49;00m\u001b[43m,\u001b[49m\n\u001b[0;32m   1182\u001b[0m \u001b[43m\u001b[49m\u001b[43m)\u001b[49m\n",
      "File \u001b[1;32m~\\AppData\\Local\\Programs\\Python\\Python310\\lib\\site-packages\\ipykernel\\kernelbase.py:1219\u001b[0m, in \u001b[0;36mKernel._input_request\u001b[1;34m(self, prompt, ident, parent, password)\u001b[0m\n\u001b[0;32m   1216\u001b[0m             \u001b[38;5;28;01mbreak\u001b[39;00m\n\u001b[0;32m   1217\u001b[0m \u001b[38;5;28;01mexcept\u001b[39;00m \u001b[38;5;167;01mKeyboardInterrupt\u001b[39;00m:\n\u001b[0;32m   1218\u001b[0m     \u001b[38;5;66;03m# re-raise KeyboardInterrupt, to truncate traceback\u001b[39;00m\n\u001b[1;32m-> 1219\u001b[0m     \u001b[38;5;28;01mraise\u001b[39;00m \u001b[38;5;167;01mKeyboardInterrupt\u001b[39;00m(\u001b[38;5;124m\"\u001b[39m\u001b[38;5;124mInterrupted by user\u001b[39m\u001b[38;5;124m\"\u001b[39m) \u001b[38;5;28;01mfrom\u001b[39;00m \u001b[38;5;28mNone\u001b[39m\n\u001b[0;32m   1220\u001b[0m \u001b[38;5;28;01mexcept\u001b[39;00m \u001b[38;5;167;01mException\u001b[39;00m:\n\u001b[0;32m   1221\u001b[0m     \u001b[38;5;28mself\u001b[39m\u001b[38;5;241m.\u001b[39mlog\u001b[38;5;241m.\u001b[39mwarning(\u001b[38;5;124m\"\u001b[39m\u001b[38;5;124mInvalid Message:\u001b[39m\u001b[38;5;124m\"\u001b[39m, exc_info\u001b[38;5;241m=\u001b[39m\u001b[38;5;28;01mTrue\u001b[39;00m)\n",
      "\u001b[1;31mKeyboardInterrupt\u001b[0m: Interrupted by user"
     ]
    }
   ],
   "source": [
    "#7 - Faça um programa que peça para o usuário digitar a idade, salário e o sexo de uma pessoa até que as entradas digitadas sejam válidas.\n",
    "\n",
    "idade = int(input('Digite a idade: '))\n",
    "salario = int(input('Digite o salario: (Valor inteiro) '))\n",
    "sexo = input('Digite o Sexo: (M, F ou Outro) ')\n",
    "\n",
    "while idade < 0 and idade > 150:\n",
    "    idade = int(input('Digite a idade: '))\n",
    "\n",
    "while salario < 0:\n",
    "    salario = int(input('Digite o salario: (Valor inteiro) '))\n",
    "    \n",
    "while sexo != 'M' or sexo != 'F' or sexo != 'Outro':\n",
    "    sexo = input('Digite o Sexo: (M, F ou Outro) ')\n",
    "    \n",
    "print(f'A idade digitada foi: {idade}')\n",
    "print(f'O salário digitado foi: {idade}')\n",
    "print(f'O sexo digitado foi: {idade}')\n",
    "        "
   ]
  },
  {
   "cell_type": "code",
   "execution_count": null,
   "id": "9a052320",
   "metadata": {},
   "outputs": [],
   "source": []
  }
 ],
 "metadata": {
  "kernelspec": {
   "display_name": "Python 3 (ipykernel)",
   "language": "python",
   "name": "python3"
  },
  "language_info": {
   "codemirror_mode": {
    "name": "ipython",
    "version": 3
   },
   "file_extension": ".py",
   "mimetype": "text/x-python",
   "name": "python",
   "nbconvert_exporter": "python",
   "pygments_lexer": "ipython3",
   "version": "3.10.5"
  }
 },
 "nbformat": 4,
 "nbformat_minor": 5
}
