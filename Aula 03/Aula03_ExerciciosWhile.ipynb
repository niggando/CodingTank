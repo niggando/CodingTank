{
 "cells": [
  {
   "cell_type": "code",
   "execution_count": 22,
   "id": "517f8526",
   "metadata": {},
   "outputs": [
    {
     "name": "stdout",
     "output_type": "stream",
     "text": [
      "Digite um numero :2\n",
      "1\n",
      "2\n"
     ]
    }
   ],
   "source": [
    "#1 - Faça um programa que peça ao usuário um número e imprima todos os números de um até o número dado. \n",
    "\n",
    "num = int(input('Digite um numero: '))\n",
    "aux = 1\n",
    "while aux <= num:\n",
    "    print(aux)\n",
    "    aux += 1"
   ]
  },
  {
   "cell_type": "code",
   "execution_count": 53,
   "id": "9ca74755",
   "metadata": {},
   "outputs": [
    {
     "name": "stdout",
     "output_type": "stream",
     "text": [
      "Digite um número: 7\n",
      "5040\n",
      "Fim do Loop\n"
     ]
    }
   ],
   "source": [
    "#2 - Peça ao usuário para digitar um número e imprima o fatorial de n.\n",
    "\n",
    "n = int(input('Digite um número: '))\n",
    "aux = n\n",
    "\n",
    "while aux > 1:\n",
    "    n *= (aux-1)\n",
    "    aux -= 1\n",
    "\n",
    "print(n)\n",
    "\n",
    "print('Fim do Loop')"
   ]
  },
  {
   "cell_type": "code",
   "execution_count": 54,
   "id": "c7b697ee",
   "metadata": {},
   "outputs": [
    {
     "name": "stdout",
     "output_type": "stream",
     "text": [
      "Digite um número: 5\n",
      "15\n",
      "Fim do Loop\n"
     ]
    }
   ],
   "source": [
    "#3 - Peça ao usuário para digitar um número N e some todos os números de 1 a N utilizando laço de repetição while.\n",
    "\n",
    "n = int(input('Digite um número: '))\n",
    "aux = n\n",
    "\n",
    "while aux > 1:\n",
    "    n += (aux-1)\n",
    "    aux -= 1\n",
    "\n",
    "print(n)\n",
    "\n",
    "print('Fim do Loop')"
   ]
  },
  {
   "cell_type": "code",
   "execution_count": 55,
   "id": "af3c98f5",
   "metadata": {},
   "outputs": [
    {
     "name": "stdout",
     "output_type": "stream",
     "text": [
      "Digite o número da Tabuada: 9\n",
      "9 x 0 = 0\n",
      "9 x 1 = 9\n",
      "9 x 2 = 18\n",
      "9 x 3 = 27\n",
      "9 x 4 = 36\n",
      "9 x 5 = 45\n",
      "9 x 6 = 54\n",
      "9 x 7 = 63\n",
      "9 x 8 = 72\n",
      "9 x 9 = 81\n",
      "9 x 10 = 90\n",
      "Fim do Loop\n"
     ]
    }
   ],
   "source": [
    "#4 - Faça um programa que imprima a tabuada do 9 usando loops\n",
    "\n",
    "n = int(input('Digite o número da Tabuada: '))\n",
    "count = 0 \n",
    "# Tabuada --> (1 > 10) * 9 = (resultado)\n",
    "\n",
    "while count <= 10:\n",
    "    resposta = n * count\n",
    "    print(f'{n} x {count} = {resposta}')\n",
    "    count += 1\n",
    "    \n",
    "print('Fim do Loop')"
   ]
  },
  {
   "cell_type": "code",
   "execution_count": null,
   "id": "c444865a",
   "metadata": {},
   "outputs": [],
   "source": []
  }
 ],
 "metadata": {
  "kernelspec": {
   "display_name": "Python 3 (ipykernel)",
   "language": "python",
   "name": "python3"
  },
  "language_info": {
   "codemirror_mode": {
    "name": "ipython",
    "version": 3
   },
   "file_extension": ".py",
   "mimetype": "text/x-python",
   "name": "python",
   "nbconvert_exporter": "python",
   "pygments_lexer": "ipython3",
   "version": "3.10.5"
  }
 },
 "nbformat": 4,
 "nbformat_minor": 5
}
